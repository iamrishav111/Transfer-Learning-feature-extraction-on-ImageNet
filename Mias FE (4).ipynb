{
 "cells": [
  {
   "cell_type": "code",
   "execution_count": 36,
   "metadata": {
    "executionInfo": {
     "elapsed": 1634,
     "status": "ok",
     "timestamp": 1606402202147,
     "user": {
      "displayName": "Rishav Dhar",
      "photoUrl": "https://lh3.googleusercontent.com/a-/AOh14Ghn_1AjHQBmOuTDMOxEUdE8q7C0lmtA3nHb8NhGzQ=s64",
      "userId": "04826551111113658268"
     },
     "user_tz": -330
    },
    "id": "KheZWpg0RZEk"
   },
   "outputs": [],
   "source": [
    "# importing the libraries\n",
    "import pandas as pd\n",
    "import numpy as np\n",
    "from tqdm import tqdm\n",
    "\n",
    "# for reading and displaying images\n",
    "from skimage.io import imread\n",
    "from skimage.transform import resize\n",
    "import matplotlib.pyplot as plt\n",
    "# %matplotlib inline\n",
    "\n",
    "# for creating validation set\n",
    "from sklearn.model_selection import train_test_split\n",
    "\n",
    "# for evaluating the model\n",
    "from sklearn.metrics import accuracy_score\n",
    "\n",
    "# PyTorch libraries and modules\n",
    "import torch\n",
    "from torch.autograd import Variable\n",
    "from torch.nn import Linear, ReLU, CrossEntropyLoss, Sequential, Conv2d, MaxPool2d, Module, Softmax, BatchNorm2d, Dropout\n",
    "from torch.optim import Adam, SGD\n",
    "\n",
    "# torchvision for pre-trained models\n",
    "from torchvision import models\n",
    "import argparse\n",
    "from collections import Counter\n",
    "import time\n",
    "\n",
    "import numpy as np"
   ]
  },
  {
   "cell_type": "code",
   "execution_count": 37,
   "metadata": {
    "colab": {
     "base_uri": "https://localhost:8080/"
    },
    "executionInfo": {
     "elapsed": 1378,
     "status": "ok",
     "timestamp": 1606402207867,
     "user": {
      "displayName": "Rishav Dhar",
      "photoUrl": "https://lh3.googleusercontent.com/a-/AOh14Ghn_1AjHQBmOuTDMOxEUdE8q7C0lmtA3nHb8NhGzQ=s64",
      "userId": "04826551111113658268"
     },
     "user_tz": -330
    },
    "id": "ksqExTN75tj2",
    "outputId": "a099ac7b-8bcb-4b86-de5c-09fb7d88fec0"
   },
   "outputs": [
    {
     "name": "stdout",
     "output_type": "stream",
     "text": [
      "Drive already mounted at /content/gdrive; to attempt to forcibly remount, call drive.mount(\"/content/gdrive\", force_remount=True).\n"
     ]
    }
   ],
   "source": [
    "from google.colab import drive\n",
    "drive.mount(\"/content/gdrive\")"
   ]
  },
  {
   "cell_type": "code",
   "execution_count": 38,
   "metadata": {
    "executionInfo": {
     "elapsed": 1309,
     "status": "ok",
     "timestamp": 1606402211117,
     "user": {
      "displayName": "Rishav Dhar",
      "photoUrl": "https://lh3.googleusercontent.com/a-/AOh14Ghn_1AjHQBmOuTDMOxEUdE8q7C0lmtA3nHb8NhGzQ=s64",
      "userId": "04826551111113658268"
     },
     "user_tz": -330
    },
    "id": "46IQFXg1M2X5"
   },
   "outputs": [],
   "source": [
    "import os\n",
    "\n",
    "import cv2\n",
    "import pandas as pd"
   ]
  },
  {
   "cell_type": "code",
   "execution_count": 39,
   "metadata": {
    "colab": {
     "base_uri": "https://localhost:8080/"
    },
    "executionInfo": {
     "elapsed": 19254,
     "status": "ok",
     "timestamp": 1606402233088,
     "user": {
      "displayName": "Rishav Dhar",
      "photoUrl": "https://lh3.googleusercontent.com/a-/AOh14Ghn_1AjHQBmOuTDMOxEUdE8q7C0lmtA3nHb8NhGzQ=s64",
      "userId": "04826551111113658268"
     },
     "user_tz": -330
    },
    "id": "Ewk0kEzpL4Nw",
    "outputId": "bc667b66-5ffd-4fac-b872-957c3a2beee3"
   },
   "outputs": [
    {
     "name": "stdout",
     "output_type": "stream",
     "text": [
      "Converted mdb008.pgm from PGM to PNG (N case).\n",
      "Converted mdb009.pgm from PGM to PNG (N case).\n",
      "Converted mdb006.pgm from PGM to PNG (N case).\n",
      "Converted mdb001.pgm from PGM to PNG (B  case).\n",
      "Converted mdb010.pgm from PGM to PNG (B  case).\n",
      "Converted mdb004.pgm from PGM to PNG (N case).\n",
      "Converted mdb012.pgm from PGM to PNG (B  case).\n",
      "Converted mdb011.pgm from PGM to PNG (N case).\n",
      "Converted mdb015.pgm from PGM to PNG (B  case).\n",
      "Converted mdb005.pgm from PGM to PNG (B  case).\n",
      "Converted mdb017.pgm from PGM to PNG (B  case).\n",
      "Converted mdb013.pgm from PGM to PNG (B  case).\n",
      "Converted mdb002.pgm from PGM to PNG (B  case).\n",
      "Converted mdb007.pgm from PGM to PNG (N case).\n",
      "Converted mdb018.pgm from PGM to PNG (N case).\n",
      "Converted mdb014.pgm from PGM to PNG (N case).\n",
      "Converted mdb003.pgm from PGM to PNG (N case).\n",
      "Converted mdb019.pgm from PGM to PNG (B  case).\n",
      "Converted mdb016.pgm from PGM to PNG (N case).\n",
      "Converted mdb025.pgm from PGM to PNG (B  case).\n",
      "Converted mdb023.pgm from PGM to PNG (M  case).\n",
      "Converted mdb039.pgm from PGM to PNG (N case).\n",
      "Converted mdb035.pgm from PGM to PNG (N case).\n",
      "Converted mdb040.pgm from PGM to PNG (N case).\n",
      "Converted mdb038.pgm from PGM to PNG (N case).\n",
      "Converted mdb031.pgm from PGM to PNG (N case).\n",
      "Converted mdb024.pgm from PGM to PNG (N case).\n",
      "Converted mdb042.pgm from PGM to PNG (N case).\n",
      "Converted mdb037.pgm from PGM to PNG (N case).\n",
      "Converted mdb026.pgm from PGM to PNG (N case).\n",
      "Converted mdb022.pgm from PGM to PNG (N case).\n",
      "Converted mdb027.pgm from PGM to PNG (N case).\n",
      "Converted mdb021.pgm from PGM to PNG (B  case).\n",
      "Converted mdb029.pgm from PGM to PNG (N case).\n",
      "Converted mdb032.pgm from PGM to PNG (B  case).\n",
      "Converted mdb020.pgm from PGM to PNG (N case).\n",
      "Converted mdb028.pgm from PGM to PNG (M  case).\n",
      "Converted mdb034.pgm from PGM to PNG (N case).\n",
      "Converted mdb033.pgm from PGM to PNG (N case).\n",
      "Converted mdb036.pgm from PGM to PNG (N case).\n",
      "Converted mdb030.pgm from PGM to PNG (B  case).\n",
      "Converted mdb041.pgm from PGM to PNG (N case).\n",
      "Converted mdb054.pgm from PGM to PNG (N case).\n",
      "Converted mdb060.pgm from PGM to PNG (N case).\n",
      "Converted mdb063.pgm from PGM to PNG (B  case).\n",
      "Converted mdb048.pgm from PGM to PNG (N case).\n",
      "Converted mdb045.pgm from PGM to PNG (N case).\n",
      "Converted mdb044.pgm from PGM to PNG (N case).\n",
      "Converted mdb065.pgm from PGM to PNG (N case).\n",
      "Converted mdb058.pgm from PGM to PNG (M  case).\n",
      "Converted mdb049.pgm from PGM to PNG (N case).\n",
      "Converted mdb064.pgm from PGM to PNG (N case).\n",
      "Converted mdb043.pgm from PGM to PNG (N case).\n",
      "Converted mdb051.pgm from PGM to PNG (N case).\n",
      "Converted mdb052.pgm from PGM to PNG (N case).\n",
      "Converted mdb056.pgm from PGM to PNG (N case).\n",
      "Converted mdb053.pgm from PGM to PNG (N case).\n",
      "Converted mdb066.pgm from PGM to PNG (N case).\n",
      "Converted mdb061.pgm from PGM to PNG (N case).\n",
      "Converted mdb057.pgm from PGM to PNG (N case).\n",
      "Converted mdb050.pgm from PGM to PNG (N case).\n",
      "Converted mdb062.pgm from PGM to PNG (N case).\n",
      "Converted mdb055.pgm from PGM to PNG (N case).\n",
      "Converted mdb046.pgm from PGM to PNG (N case).\n",
      "Converted mdb047.pgm from PGM to PNG (N case).\n",
      "Converted mdb059.pgm from PGM to PNG (B case).\n",
      "Converted mdb067.pgm from PGM to PNG (N case).\n",
      "Converted mdb077.pgm from PGM to PNG (N case).\n",
      "Converted mdb085.pgm from PGM to PNG (N case).\n",
      "Converted mdb092.pgm from PGM to PNG (M  case).\n",
      "Converted mdb069.pgm from PGM to PNG (B  case).\n",
      "Converted mdb073.pgm from PGM to PNG (N case).\n",
      "Converted mdb083.pgm from PGM to PNG (B  case).\n",
      "Converted mdb076.pgm from PGM to PNG (N case).\n",
      "Converted mdb071.pgm from PGM to PNG (N case).\n",
      "Converted mdb078.pgm from PGM to PNG (N case).\n",
      "Converted mdb075.pgm from PGM to PNG (M  case).\n",
      "Converted mdb082.pgm from PGM to PNG (N case).\n",
      "Converted mdb090.pgm from PGM to PNG (M  case).\n",
      "Converted mdb080.pgm from PGM to PNG (B  case).\n",
      "Converted mdb081.pgm from PGM to PNG (B  case).\n",
      "Converted mdb091.pgm from PGM to PNG (B  case).\n",
      "Converted mdb086.pgm from PGM to PNG (N case).\n",
      "Converted mdb068.pgm from PGM to PNG (N case).\n",
      "Converted mdb070.pgm from PGM to PNG (N case).\n",
      "Converted mdb084.pgm from PGM to PNG (N case).\n",
      "Converted mdb089.pgm from PGM to PNG (N case).\n",
      "Converted mdb072.pgm from PGM to PNG (M  case).\n",
      "Converted mdb088.pgm from PGM to PNG (N case).\n",
      "Converted mdb079.pgm from PGM to PNG (N case).\n",
      "Converted mdb074.pgm from PGM to PNG (N case).\n",
      "Converted mdb087.pgm from PGM to PNG (N case).\n",
      "Converted mdb095.pgm from PGM to PNG (M  case).\n",
      "Converted mdb093.pgm from PGM to PNG (N case).\n",
      "Converted mdb100.pgm from PGM to PNG (N case).\n",
      "Converted mdb103.pgm from PGM to PNG (N case).\n",
      "Converted mdb106.pgm from PGM to PNG (N case).\n",
      "Converted mdb101.pgm from PGM to PNG (N case).\n",
      "Converted mdb097.pgm from PGM to PNG (B  case).\n",
      "Converted mdb099.pgm from PGM to PNG (B  case).\n",
      "Converted mdb108.pgm from PGM to PNG (N case).\n",
      "Converted mdb096.pgm from PGM to PNG (N case).\n",
      "Converted mdb111.pgm from PGM to PNG (M  case).\n",
      "Converted mdb105.pgm from PGM to PNG (M  case).\n",
      "Converted mdb115.pgm from PGM to PNG (M  case).\n",
      "Converted mdb109.pgm from PGM to PNG (N case).\n",
      "Converted mdb107.pgm from PGM to PNG (B  case).\n",
      "Converted mdb112.pgm from PGM to PNG (N case).\n",
      "Converted mdb114.pgm from PGM to PNG (N case).\n",
      "Converted mdb110.pgm from PGM to PNG (M  case).\n",
      "Converted mdb102.pgm from PGM to PNG (M  case).\n",
      "Converted mdb094.pgm from PGM to PNG (N case).\n",
      "Converted mdb117.pgm from PGM to PNG (M  case).\n",
      "Converted mdb113.pgm from PGM to PNG (N case).\n",
      "Converted mdb098.pgm from PGM to PNG (N case).\n",
      "Converted mdb116.pgm from PGM to PNG (N case).\n",
      "Converted mdb104.pgm from PGM to PNG (B  case).\n",
      "Converted mdb121.pgm from PGM to PNG (B  case).\n",
      "Converted mdb127.pgm from PGM to PNG (B  case).\n",
      "Converted mdb138.pgm from PGM to PNG (N case).\n",
      "Converted mdb123.pgm from PGM to PNG (N case).\n",
      "Converted mdb131.pgm from PGM to PNG (N case).\n",
      "Converted mdb120.pgm from PGM to PNG (M  case).\n",
      "Converted mdb118.pgm from PGM to PNG (N case).\n",
      "Converted mdb132.pgm from PGM to PNG (B  case).\n",
      "Converted mdb122.pgm from PGM to PNG (N case).\n",
      "Converted mdb130.pgm from PGM to PNG (M  case).\n",
      "Converted mdb129.pgm from PGM to PNG (N case).\n",
      "Converted mdb128.pgm from PGM to PNG (N case).\n",
      "Converted mdb119.pgm from PGM to PNG (N case).\n",
      "Converted mdb126.pgm from PGM to PNG (B  case).\n",
      "Converted mdb133.pgm from PGM to PNG (N case).\n",
      "Converted mdb137.pgm from PGM to PNG (N case).\n",
      "Converted mdb134.pgm from PGM to PNG (M  case).\n",
      "Converted mdb136.pgm from PGM to PNG (N case).\n",
      "Converted mdb124.pgm from PGM to PNG (M  case).\n",
      "Converted mdb135.pgm from PGM to PNG (N case).\n",
      "Converted mdb125.pgm from PGM to PNG (M  case).\n",
      "Converted mdb144.pgm from PGM to PNG (B  case).\n",
      "Converted mdb155.pgm from PGM to PNG (M  case).\n",
      "Converted mdb152.pgm from PGM to PNG (B  case).\n",
      "Converted mdb140.pgm from PGM to PNG (N case).\n",
      "Converted mdb145.pgm from PGM to PNG (B  case).\n",
      "Converted mdb154.pgm from PGM to PNG (N case).\n",
      "Converted mdb151.pgm from PGM to PNG (N case).\n",
      "Converted mdb147.pgm from PGM to PNG (N case).\n",
      "Converted mdb142.pgm from PGM to PNG (B  case).\n",
      "Converted mdb141.pgm from PGM to PNG (M  case).\n",
      "Converted mdb150.pgm from PGM to PNG (B  case).\n",
      "Converted mdb153.pgm from PGM to PNG (N case).\n",
      "Converted mdb156.pgm from PGM to PNG (N case).\n",
      "Converted mdb149.pgm from PGM to PNG (N case).\n",
      "Converted mdb143.pgm from PGM to PNG (N case).\n",
      "Converted mdb139.pgm from PGM to PNG (N case).\n",
      "Converted mdb146.pgm from PGM to PNG (N case).\n",
      "Converted mdb148.pgm from PGM to PNG (M  case).\n",
      "Converted mdb166.pgm from PGM to PNG (N case).\n",
      "Converted mdb179.pgm from PGM to PNG (M  case).\n",
      "Converted mdb163.pgm from PGM to PNG (B  case).\n",
      "Converted mdb172.pgm from PGM to PNG (N case).\n",
      "Converted mdb167.pgm from PGM to PNG (B  case).\n",
      "Converted mdb174.pgm from PGM to PNG (N case).\n",
      "Converted mdb161.pgm from PGM to PNG (N case).\n",
      "Converted mdb175.pgm from PGM to PNG (B  case).\n",
      "Converted mdb170.pgm from PGM to PNG (M  case).\n",
      "Converted mdb169.pgm from PGM to PNG (N case).\n",
      "Converted mdb177.pgm from PGM to PNG (N case).\n",
      "Converted mdb168.pgm from PGM to PNG (N case).\n",
      "Converted mdb176.pgm from PGM to PNG (N case).\n",
      "Converted mdb183.pgm from PGM to PNG (N case).\n",
      "Converted mdb164.pgm from PGM to PNG (N case).\n",
      "Converted mdb180.pgm from PGM to PNG (N case).\n",
      "Converted mdb173.pgm from PGM to PNG (N case).\n",
      "Converted mdb160.pgm from PGM to PNG (B  case).\n",
      "Converted mdb157.pgm from PGM to PNG (N case).\n",
      "Converted mdb182.pgm from PGM to PNG (N case).\n",
      "Converted mdb159.pgm from PGM to PNG (N case).\n",
      "Converted mdb178.pgm from PGM to PNG (M  case).\n",
      "Converted mdb165.pgm from PGM to PNG (B  case).\n",
      "Converted mdb171.pgm from PGM to PNG (M  case).\n",
      "Converted mdb181.pgm from PGM to PNG (M  case).\n",
      "Converted mdb162.pgm from PGM to PNG (N case).\n",
      "Converted mdb158.pgm from PGM to PNG (M  case).\n",
      "Converted mdb194.pgm from PGM to PNG (N case).\n",
      "Converted mdb198.pgm from PGM to PNG (B  case).\n",
      "Converted mdb205.pgm from PGM to PNG (N case).\n",
      "Converted mdb196.pgm from PGM to PNG (N case).\n",
      "Converted mdb195.pgm from PGM to PNG (B  case).\n",
      "Converted mdb200.pgm from PGM to PNG (N case).\n",
      "Converted mdb188.pgm from PGM to PNG (B  case).\n",
      "Converted mdb186.pgm from PGM to PNG (M  case).\n",
      "Converted mdb197.pgm from PGM to PNG (N case).\n",
      "Converted mdb192.pgm from PGM to PNG (N case).\n",
      "Converted mdb193.pgm from PGM to PNG (B  case).\n",
      "Converted mdb187.pgm from PGM to PNG (N case).\n",
      "Converted mdb202.pgm from PGM to PNG (M  case).\n",
      "Converted mdb190.pgm from PGM to PNG (B  case).\n",
      "Converted mdb199.pgm from PGM to PNG (B  case).\n",
      "Converted mdb184.pgm from PGM to PNG (M  case).\n",
      "Converted mdb201.pgm from PGM to PNG (N case).\n",
      "Converted mdb206.pgm from PGM to PNG (M  case).\n",
      "Converted mdb191.pgm from PGM to PNG (B  case).\n",
      "Converted mdb203.pgm from PGM to PNG (N case).\n",
      "Converted mdb189.pgm from PGM to PNG (N case).\n",
      "Converted mdb185.pgm from PGM to PNG (N case).\n",
      "Converted mdb204.pgm from PGM to PNG (B  case).\n",
      "Converted mdb214.pgm from PGM to PNG (B  case).\n",
      "Converted mdb213.pgm from PGM to PNG (M  case).\n",
      "Converted mdb223.pgm from PGM to PNG (B  case).\n",
      "Converted mdb225.pgm from PGM to PNG (N case).\n",
      "Converted mdb218.pgm from PGM to PNG (B  case).\n",
      "Converted mdb220.pgm from PGM to PNG (N case).\n",
      "Converted mdb222.pgm from PGM to PNG (B  case).\n",
      "Converted mdb229.pgm from PGM to PNG (N case).\n",
      "Converted mdb210.pgm from PGM to PNG (N case).\n",
      "Converted mdb227.pgm from PGM to PNG (B  case).\n",
      "Converted mdb224.pgm from PGM to PNG (N case).\n",
      "Converted mdb216.pgm from PGM to PNG (M  case).\n",
      "Converted mdb219.pgm from PGM to PNG (B  case).\n",
      "Converted mdb226.pgm from PGM to PNG (B  case).\n",
      "Converted mdb209.pgm from PGM to PNG (M  case).\n",
      "Converted mdb208.pgm from PGM to PNG (N case).\n",
      "Converted mdb217.pgm from PGM to PNG (N case).\n",
      "Converted mdb211.pgm from PGM to PNG (M  case).\n",
      "Converted mdb212.pgm from PGM to PNG (B  case).\n",
      "Converted mdb230.pgm from PGM to PNG (N case).\n",
      "Converted mdb207.pgm from PGM to PNG (B  case).\n",
      "Converted mdb221.pgm from PGM to PNG (N case).\n",
      "Converted mdb215.pgm from PGM to PNG (N case).\n",
      "Converted mdb228.pgm from PGM to PNG (N case).\n",
      "Converted mdb234.pgm from PGM to PNG (N case).\n",
      "Converted mdb242.pgm from PGM to PNG (N case).\n",
      "Converted mdb251.pgm from PGM to PNG (N case).\n",
      "Converted mdb238.pgm from PGM to PNG (M  case).\n",
      "Converted mdb247.pgm from PGM to PNG (N case).\n",
      "Converted mdb235.pgm from PGM to PNG (N case).\n",
      "Converted mdb231.pgm from PGM to PNG (M  case).\n",
      "Converted mdb245.pgm from PGM to PNG (M  case).\n",
      "Converted mdb236.pgm from PGM to PNG (B  case).\n",
      "Converted mdb233.pgm from PGM to PNG (M  case).\n",
      "Converted mdb232.pgm from PGM to PNG (N case).\n",
      "Converted mdb241.pgm from PGM to PNG (M  case).\n",
      "Converted mdb246.pgm from PGM to PNG (N case).\n",
      "Converted mdb252.pgm from PGM to PNG (B  case).\n",
      "Converted mdb240.pgm from PGM to PNG (B  case).\n",
      "Converted mdb250.pgm from PGM to PNG (N case).\n",
      "Converted mdb243.pgm from PGM to PNG (N case).\n",
      "Converted mdb253.pgm from PGM to PNG (M  case).\n",
      "Converted mdb244.pgm from PGM to PNG (B  case).\n",
      "Converted mdb239.pgm from PGM to PNG (M  case).\n",
      "Converted mdb249.pgm from PGM to PNG (M  case).\n",
      "Converted mdb248.pgm from PGM to PNG (B  case).\n",
      "Converted mdb237.pgm from PGM to PNG (N case).\n",
      "Converted mdb268.pgm from PGM to PNG (N case).\n",
      "Converted mdb267.pgm from PGM to PNG (M  case).\n",
      "Converted mdb275.pgm from PGM to PNG (N case).\n",
      "Converted mdb261.pgm from PGM to PNG (N case).\n",
      "Converted mdb262.pgm from PGM to PNG (N case).\n",
      "Converted mdb272.pgm from PGM to PNG (N case).\n",
      "Converted mdb260.pgm from PGM to PNG (N case).\n",
      "Converted mdb263.pgm from PGM to PNG (N case).\n",
      "Converted mdb256.pgm from PGM to PNG (M  case).\n",
      "Converted mdb265.pgm from PGM to PNG (M  case).\n",
      "Converted mdb274.pgm from PGM to PNG (M  case).\n",
      "Converted mdb258.pgm from PGM to PNG (N case).\n",
      "Converted mdb255.pgm from PGM to PNG (N case).\n",
      "Converted mdb270.pgm from PGM to PNG (M  case).\n",
      "Converted mdb269.pgm from PGM to PNG (N case).\n",
      "Converted mdb271.pgm from PGM to PNG (M  case).\n",
      "Converted mdb254.pgm from PGM to PNG (N case).\n",
      "Converted mdb259.pgm from PGM to PNG (N case).\n",
      "Converted mdb266.pgm from PGM to PNG (N case).\n",
      "Converted mdb264.pgm from PGM to PNG (M  case).\n",
      "Converted mdb257.pgm from PGM to PNG (N case).\n",
      "Converted mdb273.pgm from PGM to PNG (N case).\n",
      "Converted mdb289.pgm from PGM to PNG (N case).\n",
      "Converted mdb294.pgm from PGM to PNG (N case).\n",
      "Converted mdb284.pgm from PGM to PNG (N case).\n",
      "Converted mdb290.pgm from PGM to PNG (B  case).\n",
      "Converted mdb297.pgm from PGM to PNG (N case).\n",
      "Converted mdb276.pgm from PGM to PNG (N case).\n",
      "Converted mdb278.pgm from PGM to PNG (N case).\n",
      "Converted mdb288.pgm from PGM to PNG (N case).\n",
      "Converted mdb281.pgm from PGM to PNG (N case).\n",
      "Converted mdb282.pgm from PGM to PNG (N case).\n",
      "Converted mdb287.pgm from PGM to PNG (N case).\n",
      "Converted mdb291.pgm from PGM to PNG (N case).\n",
      "Converted mdb295.pgm from PGM to PNG (N case).\n",
      "Converted mdb286.pgm from PGM to PNG (N case).\n",
      "Converted mdb285.pgm from PGM to PNG (N case).\n",
      "Converted mdb277.pgm from PGM to PNG (N case).\n",
      "Converted mdb296.pgm from PGM to PNG (N case).\n",
      "Converted mdb283.pgm from PGM to PNG (N case).\n",
      "Converted mdb280.pgm from PGM to PNG (N case).\n",
      "Converted mdb293.pgm from PGM to PNG (N case).\n",
      "Converted mdb292.pgm from PGM to PNG (N case).\n",
      "Converted mdb298.pgm from PGM to PNG (N case).\n",
      "Converted mdb299.pgm from PGM to PNG (N case).\n",
      "Converted mdb279.pgm from PGM to PNG (N case).\n",
      "Converted mdb308.pgm from PGM to PNG (N case).\n",
      "Converted mdb317.pgm from PGM to PNG (N case).\n",
      "Converted mdb307.pgm from PGM to PNG (N case).\n",
      "Converted mdb305.pgm from PGM to PNG (N case).\n",
      "Converted mdb312.pgm from PGM to PNG (B  case).\n",
      "Converted mdb302.pgm from PGM to PNG (N case).\n",
      "Converted mdb321.pgm from PGM to PNG (N case).\n",
      "Converted mdb322.pgm from PGM to PNG (N case).\n",
      "Converted mdb315.pgm from PGM to PNG (B  case).\n",
      "Converted mdb316.pgm from PGM to PNG (N case).\n",
      "Converted mdb301.pgm from PGM to PNG (N case).\n",
      "Converted mdb313.pgm from PGM to PNG (N case).\n",
      "Converted mdb300.pgm from PGM to PNG (N case).\n",
      "Converted mdb310.pgm from PGM to PNG (N case).\n",
      "Converted mdb318.pgm from PGM to PNG (N case).\n",
      "Converted mdb303.pgm from PGM to PNG (N case).\n",
      "Converted mdb319.pgm from PGM to PNG (N case).\n",
      "Converted mdb304.pgm from PGM to PNG (N case).\n",
      "Converted mdb314.pgm from PGM to PNG (B  case).\n",
      "Converted mdb311.pgm from PGM to PNG (N case).\n",
      "Converted mdb309.pgm from PGM to PNG (N case).\n",
      "Converted mdb320.pgm from PGM to PNG (N case).\n",
      "Converted mdb306.pgm from PGM to PNG (N case).\n",
      "Finished converting and sorting dataset.\n"
     ]
    }
   ],
   "source": [
    "    label = 3\n",
    "    df = pd.read_csv(\"/content/gdrive/MyDrive/mini-MIAS/data_description.csv\", header=None, index_col=0)\n",
    "    df[label].fillna('N', inplace=True)  # Empty values correspond to normal cases ('M'=malignant, 'B'=benign).\n",
    "    df[3].str.strip()  # Strip leading and trailing spaces in label column.\n",
    "\n",
    "    for img_pgm in os.listdir(\"/content/gdrive/MyDrive/mini-MIAS/images_original\"):\n",
    "        if img_pgm.endswith(\".pgm\"):\n",
    "            img = cv2.imread(\"/content/gdrive/MyDrive/mini-MIAS/images_original/{}\".format(img_pgm))\n",
    "            img_name = img_pgm.split(\".\")[0]\n",
    "            label = df.loc[img_name].loc[3]\n",
    "            if label == 'N':\n",
    "                new_path = \"/content/gdrive/MyDrive/mini-MIAS/images_processed/normal_cases/{}.png\".format(img_name)\n",
    "            elif label == 'B ':\n",
    "                new_path = \"/content/gdrive/MyDrive/mini-MIAS/images_processed/benign_cases/{}.png\".format(img_name)\n",
    "            elif label == 'M ':\n",
    "                new_path = \"/content/gdrive/MyDrive/mini-MIAS/images_processed/malignant_cases/{}.png\".format(img_name)\n",
    "            cv2.imwrite(new_path, img)\n",
    "            print(\"Converted {} from PGM to PNG ({} case).\".format(img_pgm, label))\n",
    "    print(\"Finished converting and sorting dataset.\") \n",
    "\n",
    "\n",
    "# if __name__ == '__main__':\n",
    "#     main()"
   ]
  },
  {
   "cell_type": "code",
   "execution_count": 40,
   "metadata": {
    "colab": {
     "base_uri": "https://localhost:8080/"
    },
    "executionInfo": {
     "elapsed": 1271,
     "status": "ok",
     "timestamp": 1606402241703,
     "user": {
      "displayName": "Rishav Dhar",
      "photoUrl": "https://lh3.googleusercontent.com/a-/AOh14Ghn_1AjHQBmOuTDMOxEUdE8q7C0lmtA3nHb8NhGzQ=s64",
      "userId": "04826551111113658268"
     },
     "user_tz": -330
    },
    "id": "yk6iW4CX23ta",
    "outputId": "5298db2b-b4b3-4362-9254-df89e0d8c49b"
   },
   "outputs": [
    {
     "name": "stdout",
     "output_type": "stream",
     "text": [
      "['benign_cases', 'normal_cases', 'malignant_cases']\n"
     ]
    }
   ],
   "source": [
    "print(os.listdir('/content/gdrive/MyDrive/mini-MIAS/images_processed'))"
   ]
  },
  {
   "cell_type": "code",
   "execution_count": 1,
   "metadata": {
    "executionInfo": {
     "elapsed": 1960,
     "status": "ok",
     "timestamp": 1606402246688,
     "user": {
      "displayName": "Rishav Dhar",
      "photoUrl": "https://lh3.googleusercontent.com/a-/AOh14Ghn_1AjHQBmOuTDMOxEUdE8q7C0lmtA3nHb8NhGzQ=s64",
      "userId": "04826551111113658268"
     },
     "user_tz": -330
    },
    "id": "69KRZRKC3LBx"
   },
   "outputs": [],
   "source": [
    "from torchvision import transforms, datasets, models\n",
    "\n",
    "image_transforms = {\n",
    "    # Train uses data augmentation\n",
    "    'train':\n",
    "    transforms.Compose([\n",
    "        #transforms.RandomResizedCrop(size=256, scale=(0.95, 1.0)),\n",
    "        #transforms.RandomRotation(degrees=15),\n",
    "        # transforms.ColorJitter(),\n",
    "        #transforms.RandomHorizontalFlip(),\n",
    "        #transforms.CenterCrop(size=224),  # Image net standards\n",
    "        transforms.Resize((299,299)),\n",
    "        transforms.ToTensor(),\n",
    "        transforms.Normalize([0.485, 0.456, 0.406],\n",
    "                             [0.229, 0.224, 0.225])  # Imagenet standards\n",
    "    ])}"
   ]
  },
  {
   "cell_type": "code",
   "execution_count": null,
   "metadata": {
    "colab": {
     "base_uri": "https://localhost:8080/",
     "height": 952
    },
    "executionInfo": {
     "elapsed": 3464,
     "status": "ok",
     "timestamp": 1606402253457,
     "user": {
      "displayName": "Rishav Dhar",
      "photoUrl": "https://lh3.googleusercontent.com/a-/AOh14Ghn_1AjHQBmOuTDMOxEUdE8q7C0lmtA3nHb8NhGzQ=s64",
      "userId": "04826551111113658268"
     },
     "user_tz": -330
    },
    "id": "m4xpSghl4Ywa",
    "outputId": "f374adc5-9e2e-474d-bb12-c7a03efe4dc2"
   },
   "outputs": [],
   "source": []
  },
  {
   "cell_type": "code",
   "execution_count": 43,
   "metadata": {
    "executionInfo": {
     "elapsed": 1414,
     "status": "ok",
     "timestamp": 1606402258303,
     "user": {
      "displayName": "Rishav Dhar",
      "photoUrl": "https://lh3.googleusercontent.com/a-/AOh14Ghn_1AjHQBmOuTDMOxEUdE8q7C0lmtA3nHb8NhGzQ=s64",
      "userId": "04826551111113658268"
     },
     "user_tz": -330
    },
    "id": "iX-sdYJ84zr2"
   },
   "outputs": [],
   "source": [
    "def imshow_tensor(image, ax=None, title=None):\n",
    "\n",
    "    if ax is None:\n",
    "        fig, ax = plt.subplots()\n",
    "\n",
    "    # Set the color channel as the third dimension\n",
    "    image = image.numpy().transpose((1, 2, 0))\n",
    "\n",
    "    # Reverse the preprocessing steps\n",
    "    mean = np.array([0.485, 0.456, 0.406])\n",
    "    std = np.array([0.229, 0.224, 0.225])\n",
    "    image = std * image + mean\n",
    "\n",
    "    # Clip the image pixel values\n",
    "    image = np.clip(image, 0, 1)\n",
    "\n",
    "    ax.imshow(image)\n",
    "    plt.axis('off')\n",
    "\n",
    "    return ax, image"
   ]
  },
  {
   "cell_type": "code",
   "execution_count": 1,
   "metadata": {
    "colab": {
     "base_uri": "https://localhost:8080/",
     "height": 955
    },
    "executionInfo": {
     "elapsed": 8998,
     "status": "ok",
     "timestamp": 1606402271463,
     "user": {
      "displayName": "Rishav Dhar",
      "photoUrl": "https://lh3.googleusercontent.com/a-/AOh14Ghn_1AjHQBmOuTDMOxEUdE8q7C0lmtA3nHb8NhGzQ=s64",
      "userId": "04826551111113658268"
     },
     "user_tz": -330
    },
    "id": "mJ1-oMEY7eOL",
    "outputId": "5912d7da-1c0b-4c53-ab84-ee159991c9aa"
   },
   "outputs": [
    {
     "data": {
      "text/plain": [
       "\"\\ntransform = image_transforms['train']\\nplt.figure(figsize=(24, 24))\\n\\nfor i in range(16):\\n    ax = plt.subplot(4, 4, i + 1)\\n    _ = imshow_tensor(transform(img), ax=ax)\\n\\nplt.tight_layout()\\n\""
      ]
     },
     "execution_count": 1,
     "metadata": {},
     "output_type": "execute_result"
    }
   ],
   "source": [
    "'''\n",
    "transform = image_transforms['train']\n",
    "plt.figure(figsize=(24, 24))\n",
    "\n",
    "for i in range(16):\n",
    "    ax = plt.subplot(4, 4, i + 1)\n",
    "    _ = imshow_tensor(transform(img), ax=ax)\n",
    "\n",
    "plt.tight_layout()\n",
    "'''"
   ]
  },
  {
   "cell_type": "code",
   "execution_count": 2,
   "metadata": {
    "colab": {
     "base_uri": "https://localhost:8080/"
    },
    "executionInfo": {
     "elapsed": 1562,
     "status": "ok",
     "timestamp": 1606402279340,
     "user": {
      "displayName": "Rishav Dhar",
      "photoUrl": "https://lh3.googleusercontent.com/a-/AOh14Ghn_1AjHQBmOuTDMOxEUdE8q7C0lmtA3nHb8NhGzQ=s64",
      "userId": "04826551111113658268"
     },
     "user_tz": -330
    },
    "id": "wF79FX3k7wtw",
    "outputId": "a8386b8f-f529-4225-9751-1d707901e501"
   },
   "outputs": [],
   "source": [
    "from torch.utils.data import DataLoader, sampler, random_split\n",
    "\n",
    "batch_size = 1\n",
    "\n",
    "all_data = datasets.ImageFolder(r'C:\\Users\\saikat\\Dropbox\\Deep Learning in Medical Images\\mini-MIAS\\images_processed',\n",
    "                                transform=image_transforms['train'])\n",
    "#train_data_len = int(len(all_data)*0.8)\n",
    "#valid_data_len = int((len(all_data) - train_data_len)/2)\n",
    "#test_data_len = int(len(all_data) - train_data_len - valid_data_len)\n",
    "#train_data, val_data, test_data = random_split(all_data, [train_data_len, valid_data_len, test_data_len])\n",
    "#train_data.dataset.transform = image_transforms['train']\n",
    "#val_data.dataset.transform = image_transforms['val']\n",
    "#test_data.dataset.transform = image_transforms['test']\n",
    "#print(len(train_data), len(val_data), len(test_data))\n",
    "\n",
    "data_loader = DataLoader(all_data, batch_size=batch_size, shuffle=True)\n",
    "##val_loader = DataLoader(val_data, batch_size=batch_size, shuffle=True)\n",
    "#test_loader = DataLoader(test_data, batch_size=batch_size, shuffle=True)"
   ]
  },
  {
   "cell_type": "code",
   "execution_count": 11,
   "metadata": {
    "colab": {
     "base_uri": "https://localhost:8080/"
    },
    "executionInfo": {
     "elapsed": 5320,
     "status": "ok",
     "timestamp": 1606402288946,
     "user": {
      "displayName": "Rishav Dhar",
      "photoUrl": "https://lh3.googleusercontent.com/a-/AOh14Ghn_1AjHQBmOuTDMOxEUdE8q7C0lmtA3nHb8NhGzQ=s64",
      "userId": "04826551111113658268"
     },
     "user_tz": -330
    },
    "id": "sUTDqIYr8UU5",
    "outputId": "069d1077-78ac-4fb2-db48-2dd7f5fd50dd"
   },
   "outputs": [
    {
     "name": "stdout",
     "output_type": "stream",
     "text": [
      "torch.Size([1, 3, 299, 299]) torch.Size([1])\n"
     ]
    }
   ],
   "source": [
    "trainiter = iter(data_loader)\n",
    "features_train, labels_train = next(trainiter)\n",
    "print(features_train.shape, labels_train.shape)"
   ]
  },
  {
   "cell_type": "code",
   "execution_count": 16,
   "metadata": {
    "executionInfo": {
     "elapsed": 2617,
     "status": "ok",
     "timestamp": 1606402300287,
     "user": {
      "displayName": "Rishav Dhar",
      "photoUrl": "https://lh3.googleusercontent.com/a-/AOh14Ghn_1AjHQBmOuTDMOxEUdE8q7C0lmtA3nHb8NhGzQ=s64",
      "userId": "04826551111113658268"
     },
     "user_tz": -330
    },
    "id": "cQnQQQnz5zeZ"
   },
   "outputs": [],
   "source": [
    "model = models.vgg16_bn(pretrained=True)\n"
   ]
  },
  {
   "cell_type": "code",
   "execution_count": 17,
   "metadata": {
    "executionInfo": {
     "elapsed": 1723,
     "status": "ok",
     "timestamp": 1606402307427,
     "user": {
      "displayName": "Rishav Dhar",
      "photoUrl": "https://lh3.googleusercontent.com/a-/AOh14Ghn_1AjHQBmOuTDMOxEUdE8q7C0lmtA3nHb8NhGzQ=s64",
      "userId": "04826551111113658268"
     },
     "user_tz": -330
    },
    "id": "MXWR2U3M6BAD"
   },
   "outputs": [],
   "source": [
    "import torch\n",
    "device = torch.device(\"cuda:0\" if torch.cuda.is_available() else \"cpu\")\n",
    "model=model.to(device)\n"
   ]
  },
  {
   "cell_type": "code",
   "execution_count": 18,
   "metadata": {},
   "outputs": [
    {
     "data": {
      "text/plain": [
       "Sequential(\n",
       "  (0): Conv2d(3, 64, kernel_size=(3, 3), stride=(1, 1), padding=(1, 1))\n",
       "  (1): BatchNorm2d(64, eps=1e-05, momentum=0.1, affine=True, track_running_stats=True)\n",
       "  (2): ReLU(inplace=True)\n",
       "  (3): Conv2d(64, 64, kernel_size=(3, 3), stride=(1, 1), padding=(1, 1))\n",
       "  (4): BatchNorm2d(64, eps=1e-05, momentum=0.1, affine=True, track_running_stats=True)\n",
       "  (5): ReLU(inplace=True)\n",
       "  (6): MaxPool2d(kernel_size=2, stride=2, padding=0, dilation=1, ceil_mode=False)\n",
       "  (7): Conv2d(64, 128, kernel_size=(3, 3), stride=(1, 1), padding=(1, 1))\n",
       "  (8): BatchNorm2d(128, eps=1e-05, momentum=0.1, affine=True, track_running_stats=True)\n",
       "  (9): ReLU(inplace=True)\n",
       "  (10): Conv2d(128, 128, kernel_size=(3, 3), stride=(1, 1), padding=(1, 1))\n",
       "  (11): BatchNorm2d(128, eps=1e-05, momentum=0.1, affine=True, track_running_stats=True)\n",
       "  (12): ReLU(inplace=True)\n",
       "  (13): MaxPool2d(kernel_size=2, stride=2, padding=0, dilation=1, ceil_mode=False)\n",
       "  (14): Conv2d(128, 256, kernel_size=(3, 3), stride=(1, 1), padding=(1, 1))\n",
       "  (15): BatchNorm2d(256, eps=1e-05, momentum=0.1, affine=True, track_running_stats=True)\n",
       "  (16): ReLU(inplace=True)\n",
       "  (17): Conv2d(256, 256, kernel_size=(3, 3), stride=(1, 1), padding=(1, 1))\n",
       "  (18): BatchNorm2d(256, eps=1e-05, momentum=0.1, affine=True, track_running_stats=True)\n",
       "  (19): ReLU(inplace=True)\n",
       "  (20): Conv2d(256, 256, kernel_size=(3, 3), stride=(1, 1), padding=(1, 1))\n",
       "  (21): BatchNorm2d(256, eps=1e-05, momentum=0.1, affine=True, track_running_stats=True)\n",
       "  (22): ReLU(inplace=True)\n",
       "  (23): MaxPool2d(kernel_size=2, stride=2, padding=0, dilation=1, ceil_mode=False)\n",
       "  (24): Conv2d(256, 512, kernel_size=(3, 3), stride=(1, 1), padding=(1, 1))\n",
       "  (25): BatchNorm2d(512, eps=1e-05, momentum=0.1, affine=True, track_running_stats=True)\n",
       "  (26): ReLU(inplace=True)\n",
       "  (27): Conv2d(512, 512, kernel_size=(3, 3), stride=(1, 1), padding=(1, 1))\n",
       "  (28): BatchNorm2d(512, eps=1e-05, momentum=0.1, affine=True, track_running_stats=True)\n",
       "  (29): ReLU(inplace=True)\n",
       "  (30): Conv2d(512, 512, kernel_size=(3, 3), stride=(1, 1), padding=(1, 1))\n",
       "  (31): BatchNorm2d(512, eps=1e-05, momentum=0.1, affine=True, track_running_stats=True)\n",
       "  (32): ReLU(inplace=True)\n",
       "  (33): MaxPool2d(kernel_size=2, stride=2, padding=0, dilation=1, ceil_mode=False)\n",
       "  (34): Conv2d(512, 512, kernel_size=(3, 3), stride=(1, 1), padding=(1, 1))\n",
       "  (35): BatchNorm2d(512, eps=1e-05, momentum=0.1, affine=True, track_running_stats=True)\n",
       "  (36): ReLU(inplace=True)\n",
       "  (37): Conv2d(512, 512, kernel_size=(3, 3), stride=(1, 1), padding=(1, 1))\n",
       "  (38): BatchNorm2d(512, eps=1e-05, momentum=0.1, affine=True, track_running_stats=True)\n",
       "  (39): ReLU(inplace=True)\n",
       "  (40): Conv2d(512, 512, kernel_size=(3, 3), stride=(1, 1), padding=(1, 1))\n",
       "  (41): BatchNorm2d(512, eps=1e-05, momentum=0.1, affine=True, track_running_stats=True)\n",
       "  (42): ReLU(inplace=True)\n",
       "  (43): MaxPool2d(kernel_size=2, stride=2, padding=0, dilation=1, ceil_mode=False)\n",
       ")"
      ]
     },
     "execution_count": 18,
     "metadata": {},
     "output_type": "execute_result"
    }
   ],
   "source": [
    "model.features"
   ]
  },
  {
   "cell_type": "code",
   "execution_count": 19,
   "metadata": {
    "colab": {
     "base_uri": "https://localhost:8080/"
    },
    "executionInfo": {
     "elapsed": 1522,
     "status": "ok",
     "timestamp": 1606402310404,
     "user": {
      "displayName": "Rishav Dhar",
      "photoUrl": "https://lh3.googleusercontent.com/a-/AOh14Ghn_1AjHQBmOuTDMOxEUdE8q7C0lmtA3nHb8NhGzQ=s64",
      "userId": "04826551111113658268"
     },
     "user_tz": -330
    },
    "id": "hwM5PrWK6ca1",
    "outputId": "f39540e2-ab8e-4f2f-8599-d40fadff2300"
   },
   "outputs": [
    {
     "name": "stdout",
     "output_type": "stream",
     "text": [
      "(1, 41472) <class 'numpy.ndarray'>\n",
      "0\n",
      "(1, 41472) <class 'numpy.ndarray'>\n",
      "1\n",
      "(1, 41472) <class 'numpy.ndarray'>\n",
      "2\n"
     ]
    },
    {
     "ename": "KeyboardInterrupt",
     "evalue": "",
     "output_type": "error",
     "traceback": [
      "\u001b[1;31m---------------------------------------------------------------------------\u001b[0m",
      "\u001b[1;31mKeyboardInterrupt\u001b[0m                         Traceback (most recent call last)",
      "\u001b[1;32m<ipython-input-19-2ce6457a3bcc>\u001b[0m in \u001b[0;36m<module>\u001b[1;34m\u001b[0m\n\u001b[0;32m      5\u001b[0m \u001b[1;32mfor\u001b[0m \u001b[0minputs\u001b[0m\u001b[1;33m,\u001b[0m \u001b[0mlabels\u001b[0m \u001b[1;32min\u001b[0m \u001b[0mdata_loader\u001b[0m\u001b[1;33m:\u001b[0m\u001b[1;33m\u001b[0m\u001b[1;33m\u001b[0m\u001b[0m\n\u001b[0;32m      6\u001b[0m     \u001b[0minputs\u001b[0m \u001b[1;33m=\u001b[0m \u001b[0minputs\u001b[0m\u001b[1;33m.\u001b[0m\u001b[0mto\u001b[0m\u001b[1;33m(\u001b[0m\u001b[0mdevice\u001b[0m\u001b[1;33m)\u001b[0m\u001b[1;33m\u001b[0m\u001b[1;33m\u001b[0m\u001b[0m\n\u001b[1;32m----> 7\u001b[1;33m     \u001b[0moutputs\u001b[0m \u001b[1;33m=\u001b[0m \u001b[0mmodel\u001b[0m\u001b[1;33m.\u001b[0m\u001b[0mfeatures\u001b[0m\u001b[1;33m(\u001b[0m\u001b[0minputs\u001b[0m\u001b[1;33m)\u001b[0m\u001b[1;33m.\u001b[0m\u001b[0mdetach\u001b[0m\u001b[1;33m(\u001b[0m\u001b[1;33m)\u001b[0m\u001b[1;33m.\u001b[0m\u001b[0mnumpy\u001b[0m\u001b[1;33m(\u001b[0m\u001b[1;33m)\u001b[0m\u001b[1;33m\u001b[0m\u001b[1;33m\u001b[0m\u001b[0m\n\u001b[0m\u001b[0;32m      8\u001b[0m     \u001b[0moutputs\u001b[0m\u001b[1;33m=\u001b[0m\u001b[0mnp\u001b[0m\u001b[1;33m.\u001b[0m\u001b[0mresize\u001b[0m\u001b[1;33m(\u001b[0m\u001b[0moutputs\u001b[0m\u001b[1;33m,\u001b[0m\u001b[1;33m(\u001b[0m\u001b[1;36m1\u001b[0m\u001b[1;33m,\u001b[0m\u001b[1;36m512\u001b[0m\u001b[1;33m*\u001b[0m\u001b[1;36m9\u001b[0m\u001b[1;33m*\u001b[0m\u001b[1;36m9\u001b[0m\u001b[1;33m)\u001b[0m\u001b[1;33m)\u001b[0m\u001b[1;33m\u001b[0m\u001b[1;33m\u001b[0m\u001b[0m\n\u001b[0;32m      9\u001b[0m     \u001b[0mprint\u001b[0m\u001b[1;33m(\u001b[0m\u001b[0moutputs\u001b[0m\u001b[1;33m.\u001b[0m\u001b[0mshape\u001b[0m\u001b[1;33m,\u001b[0m\u001b[0mtype\u001b[0m\u001b[1;33m(\u001b[0m\u001b[0moutputs\u001b[0m\u001b[1;33m)\u001b[0m\u001b[1;33m)\u001b[0m\u001b[1;33m\u001b[0m\u001b[1;33m\u001b[0m\u001b[0m\n",
      "\u001b[1;32mD:\\ana\\envs\\packt_torch\\lib\\site-packages\\torch\\nn\\modules\\module.py\u001b[0m in \u001b[0;36m__call__\u001b[1;34m(self, *input, **kwargs)\u001b[0m\n\u001b[0;32m    545\u001b[0m             \u001b[0mresult\u001b[0m \u001b[1;33m=\u001b[0m \u001b[0mself\u001b[0m\u001b[1;33m.\u001b[0m\u001b[0m_slow_forward\u001b[0m\u001b[1;33m(\u001b[0m\u001b[1;33m*\u001b[0m\u001b[0minput\u001b[0m\u001b[1;33m,\u001b[0m \u001b[1;33m**\u001b[0m\u001b[0mkwargs\u001b[0m\u001b[1;33m)\u001b[0m\u001b[1;33m\u001b[0m\u001b[1;33m\u001b[0m\u001b[0m\n\u001b[0;32m    546\u001b[0m         \u001b[1;32melse\u001b[0m\u001b[1;33m:\u001b[0m\u001b[1;33m\u001b[0m\u001b[1;33m\u001b[0m\u001b[0m\n\u001b[1;32m--> 547\u001b[1;33m             \u001b[0mresult\u001b[0m \u001b[1;33m=\u001b[0m \u001b[0mself\u001b[0m\u001b[1;33m.\u001b[0m\u001b[0mforward\u001b[0m\u001b[1;33m(\u001b[0m\u001b[1;33m*\u001b[0m\u001b[0minput\u001b[0m\u001b[1;33m,\u001b[0m \u001b[1;33m**\u001b[0m\u001b[0mkwargs\u001b[0m\u001b[1;33m)\u001b[0m\u001b[1;33m\u001b[0m\u001b[1;33m\u001b[0m\u001b[0m\n\u001b[0m\u001b[0;32m    548\u001b[0m         \u001b[1;32mfor\u001b[0m \u001b[0mhook\u001b[0m \u001b[1;32min\u001b[0m \u001b[0mself\u001b[0m\u001b[1;33m.\u001b[0m\u001b[0m_forward_hooks\u001b[0m\u001b[1;33m.\u001b[0m\u001b[0mvalues\u001b[0m\u001b[1;33m(\u001b[0m\u001b[1;33m)\u001b[0m\u001b[1;33m:\u001b[0m\u001b[1;33m\u001b[0m\u001b[1;33m\u001b[0m\u001b[0m\n\u001b[0;32m    549\u001b[0m             \u001b[0mhook_result\u001b[0m \u001b[1;33m=\u001b[0m \u001b[0mhook\u001b[0m\u001b[1;33m(\u001b[0m\u001b[0mself\u001b[0m\u001b[1;33m,\u001b[0m \u001b[0minput\u001b[0m\u001b[1;33m,\u001b[0m \u001b[0mresult\u001b[0m\u001b[1;33m)\u001b[0m\u001b[1;33m\u001b[0m\u001b[1;33m\u001b[0m\u001b[0m\n",
      "\u001b[1;32mD:\\ana\\envs\\packt_torch\\lib\\site-packages\\torch\\nn\\modules\\container.py\u001b[0m in \u001b[0;36mforward\u001b[1;34m(self, input)\u001b[0m\n\u001b[0;32m     90\u001b[0m     \u001b[1;32mdef\u001b[0m \u001b[0mforward\u001b[0m\u001b[1;33m(\u001b[0m\u001b[0mself\u001b[0m\u001b[1;33m,\u001b[0m \u001b[0minput\u001b[0m\u001b[1;33m)\u001b[0m\u001b[1;33m:\u001b[0m\u001b[1;33m\u001b[0m\u001b[1;33m\u001b[0m\u001b[0m\n\u001b[0;32m     91\u001b[0m         \u001b[1;32mfor\u001b[0m \u001b[0mmodule\u001b[0m \u001b[1;32min\u001b[0m \u001b[0mself\u001b[0m\u001b[1;33m.\u001b[0m\u001b[0m_modules\u001b[0m\u001b[1;33m.\u001b[0m\u001b[0mvalues\u001b[0m\u001b[1;33m(\u001b[0m\u001b[1;33m)\u001b[0m\u001b[1;33m:\u001b[0m\u001b[1;33m\u001b[0m\u001b[1;33m\u001b[0m\u001b[0m\n\u001b[1;32m---> 92\u001b[1;33m             \u001b[0minput\u001b[0m \u001b[1;33m=\u001b[0m \u001b[0mmodule\u001b[0m\u001b[1;33m(\u001b[0m\u001b[0minput\u001b[0m\u001b[1;33m)\u001b[0m\u001b[1;33m\u001b[0m\u001b[1;33m\u001b[0m\u001b[0m\n\u001b[0m\u001b[0;32m     93\u001b[0m         \u001b[1;32mreturn\u001b[0m \u001b[0minput\u001b[0m\u001b[1;33m\u001b[0m\u001b[1;33m\u001b[0m\u001b[0m\n\u001b[0;32m     94\u001b[0m \u001b[1;33m\u001b[0m\u001b[0m\n",
      "\u001b[1;32mD:\\ana\\envs\\packt_torch\\lib\\site-packages\\torch\\nn\\modules\\module.py\u001b[0m in \u001b[0;36m__call__\u001b[1;34m(self, *input, **kwargs)\u001b[0m\n\u001b[0;32m    545\u001b[0m             \u001b[0mresult\u001b[0m \u001b[1;33m=\u001b[0m \u001b[0mself\u001b[0m\u001b[1;33m.\u001b[0m\u001b[0m_slow_forward\u001b[0m\u001b[1;33m(\u001b[0m\u001b[1;33m*\u001b[0m\u001b[0minput\u001b[0m\u001b[1;33m,\u001b[0m \u001b[1;33m**\u001b[0m\u001b[0mkwargs\u001b[0m\u001b[1;33m)\u001b[0m\u001b[1;33m\u001b[0m\u001b[1;33m\u001b[0m\u001b[0m\n\u001b[0;32m    546\u001b[0m         \u001b[1;32melse\u001b[0m\u001b[1;33m:\u001b[0m\u001b[1;33m\u001b[0m\u001b[1;33m\u001b[0m\u001b[0m\n\u001b[1;32m--> 547\u001b[1;33m             \u001b[0mresult\u001b[0m \u001b[1;33m=\u001b[0m \u001b[0mself\u001b[0m\u001b[1;33m.\u001b[0m\u001b[0mforward\u001b[0m\u001b[1;33m(\u001b[0m\u001b[1;33m*\u001b[0m\u001b[0minput\u001b[0m\u001b[1;33m,\u001b[0m \u001b[1;33m**\u001b[0m\u001b[0mkwargs\u001b[0m\u001b[1;33m)\u001b[0m\u001b[1;33m\u001b[0m\u001b[1;33m\u001b[0m\u001b[0m\n\u001b[0m\u001b[0;32m    548\u001b[0m         \u001b[1;32mfor\u001b[0m \u001b[0mhook\u001b[0m \u001b[1;32min\u001b[0m \u001b[0mself\u001b[0m\u001b[1;33m.\u001b[0m\u001b[0m_forward_hooks\u001b[0m\u001b[1;33m.\u001b[0m\u001b[0mvalues\u001b[0m\u001b[1;33m(\u001b[0m\u001b[1;33m)\u001b[0m\u001b[1;33m:\u001b[0m\u001b[1;33m\u001b[0m\u001b[1;33m\u001b[0m\u001b[0m\n\u001b[0;32m    549\u001b[0m             \u001b[0mhook_result\u001b[0m \u001b[1;33m=\u001b[0m \u001b[0mhook\u001b[0m\u001b[1;33m(\u001b[0m\u001b[0mself\u001b[0m\u001b[1;33m,\u001b[0m \u001b[0minput\u001b[0m\u001b[1;33m,\u001b[0m \u001b[0mresult\u001b[0m\u001b[1;33m)\u001b[0m\u001b[1;33m\u001b[0m\u001b[1;33m\u001b[0m\u001b[0m\n",
      "\u001b[1;32mD:\\ana\\envs\\packt_torch\\lib\\site-packages\\torch\\nn\\modules\\conv.py\u001b[0m in \u001b[0;36mforward\u001b[1;34m(self, input)\u001b[0m\n\u001b[0;32m    341\u001b[0m \u001b[1;33m\u001b[0m\u001b[0m\n\u001b[0;32m    342\u001b[0m     \u001b[1;32mdef\u001b[0m \u001b[0mforward\u001b[0m\u001b[1;33m(\u001b[0m\u001b[0mself\u001b[0m\u001b[1;33m,\u001b[0m \u001b[0minput\u001b[0m\u001b[1;33m)\u001b[0m\u001b[1;33m:\u001b[0m\u001b[1;33m\u001b[0m\u001b[1;33m\u001b[0m\u001b[0m\n\u001b[1;32m--> 343\u001b[1;33m         \u001b[1;32mreturn\u001b[0m \u001b[0mself\u001b[0m\u001b[1;33m.\u001b[0m\u001b[0mconv2d_forward\u001b[0m\u001b[1;33m(\u001b[0m\u001b[0minput\u001b[0m\u001b[1;33m,\u001b[0m \u001b[0mself\u001b[0m\u001b[1;33m.\u001b[0m\u001b[0mweight\u001b[0m\u001b[1;33m)\u001b[0m\u001b[1;33m\u001b[0m\u001b[1;33m\u001b[0m\u001b[0m\n\u001b[0m\u001b[0;32m    344\u001b[0m \u001b[1;33m\u001b[0m\u001b[0m\n\u001b[0;32m    345\u001b[0m \u001b[1;32mclass\u001b[0m \u001b[0mConv3d\u001b[0m\u001b[1;33m(\u001b[0m\u001b[0m_ConvNd\u001b[0m\u001b[1;33m)\u001b[0m\u001b[1;33m:\u001b[0m\u001b[1;33m\u001b[0m\u001b[1;33m\u001b[0m\u001b[0m\n",
      "\u001b[1;32mD:\\ana\\envs\\packt_torch\\lib\\site-packages\\torch\\nn\\modules\\conv.py\u001b[0m in \u001b[0;36mconv2d_forward\u001b[1;34m(self, input, weight)\u001b[0m\n\u001b[0;32m    338\u001b[0m                             _pair(0), self.dilation, self.groups)\n\u001b[0;32m    339\u001b[0m         return F.conv2d(input, weight, self.bias, self.stride,\n\u001b[1;32m--> 340\u001b[1;33m                         self.padding, self.dilation, self.groups)\n\u001b[0m\u001b[0;32m    341\u001b[0m \u001b[1;33m\u001b[0m\u001b[0m\n\u001b[0;32m    342\u001b[0m     \u001b[1;32mdef\u001b[0m \u001b[0mforward\u001b[0m\u001b[1;33m(\u001b[0m\u001b[0mself\u001b[0m\u001b[1;33m,\u001b[0m \u001b[0minput\u001b[0m\u001b[1;33m)\u001b[0m\u001b[1;33m:\u001b[0m\u001b[1;33m\u001b[0m\u001b[1;33m\u001b[0m\u001b[0m\n",
      "\u001b[1;31mKeyboardInterrupt\u001b[0m: "
     ]
    }
   ],
   "source": [
    "import numpy as np\n",
    "features=np.zeros((len(data_loader),41473))\n",
    "\n",
    "i=0\n",
    "for inputs, labels in data_loader:\n",
    "    inputs = inputs.to(device)\n",
    "    outputs = model.features(inputs).detach().numpy()\n",
    "    outputs=np.resize(outputs,(1,512*9*9))\n",
    "    print(outputs.shape,type(outputs))\n",
    "    #features[i,0:41472]=features[i,0:41472]+outputs\n",
    "    #features[i,41472]+=labels.numpy()\n",
    "    print(i)\n",
    "    i=i+1\n",
    "    \n",
    "    \n",
    "                 \n",
    "                \n",
    "                 \n"
   ]
  },
  {
   "cell_type": "code",
   "execution_count": 15,
   "metadata": {
    "colab": {
     "base_uri": "https://localhost:8080/"
    },
    "executionInfo": {
     "elapsed": 1452,
     "status": "ok",
     "timestamp": 1606402316508,
     "user": {
      "displayName": "Rishav Dhar",
      "photoUrl": "https://lh3.googleusercontent.com/a-/AOh14Ghn_1AjHQBmOuTDMOxEUdE8q7C0lmtA3nHb8NhGzQ=s64",
      "userId": "04826551111113658268"
     },
     "user_tz": -330
    },
    "id": "O7sBCCMT6U4E",
    "outputId": "ac7fd69e-97dd-41d6-bdc6-95dccde46a5e"
   },
   "outputs": [
    {
     "ename": "ValueError",
     "evalue": "This sheet is too large! Your sheet size is: 321, 41473 Max sheet size is: 1048576, 16384",
     "output_type": "error",
     "traceback": [
      "\u001b[1;31m---------------------------------------------------------------------------\u001b[0m",
      "\u001b[1;31mValueError\u001b[0m                                Traceback (most recent call last)",
      "\u001b[1;32m<ipython-input-15-a55c0fc42173>\u001b[0m in \u001b[0;36m<module>\u001b[1;34m\u001b[0m\n\u001b[0;32m      2\u001b[0m \u001b[0mdf\u001b[0m \u001b[1;33m=\u001b[0m \u001b[0mpd\u001b[0m\u001b[1;33m.\u001b[0m\u001b[0mDataFrame\u001b[0m \u001b[1;33m(\u001b[0m\u001b[0mfeatures\u001b[0m\u001b[1;33m)\u001b[0m\u001b[1;33m\u001b[0m\u001b[1;33m\u001b[0m\u001b[0m\n\u001b[0;32m      3\u001b[0m \u001b[0mfilepath\u001b[0m \u001b[1;33m=\u001b[0m \u001b[1;34m'MIAS_features_VGG_19_bn_generic.xlsx'\u001b[0m\u001b[1;33m\u001b[0m\u001b[1;33m\u001b[0m\u001b[0m\n\u001b[1;32m----> 4\u001b[1;33m \u001b[0mdf\u001b[0m\u001b[1;33m.\u001b[0m\u001b[0mto_excel\u001b[0m\u001b[1;33m(\u001b[0m\u001b[0mfilepath\u001b[0m\u001b[1;33m,\u001b[0m \u001b[0mindex\u001b[0m\u001b[1;33m=\u001b[0m\u001b[1;32mFalse\u001b[0m\u001b[1;33m)\u001b[0m\u001b[1;33m\u001b[0m\u001b[1;33m\u001b[0m\u001b[0m\n\u001b[0m",
      "\u001b[1;32mD:\\ana\\envs\\packt_torch\\lib\\site-packages\\pandas\\core\\generic.py\u001b[0m in \u001b[0;36mto_excel\u001b[1;34m(self, excel_writer, sheet_name, na_rep, float_format, columns, header, index, index_label, startrow, startcol, engine, merge_cells, encoding, inf_rep, verbose, freeze_panes)\u001b[0m\n\u001b[0;32m   2179\u001b[0m             \u001b[0mstartcol\u001b[0m\u001b[1;33m=\u001b[0m\u001b[0mstartcol\u001b[0m\u001b[1;33m,\u001b[0m\u001b[1;33m\u001b[0m\u001b[1;33m\u001b[0m\u001b[0m\n\u001b[0;32m   2180\u001b[0m             \u001b[0mfreeze_panes\u001b[0m\u001b[1;33m=\u001b[0m\u001b[0mfreeze_panes\u001b[0m\u001b[1;33m,\u001b[0m\u001b[1;33m\u001b[0m\u001b[1;33m\u001b[0m\u001b[0m\n\u001b[1;32m-> 2181\u001b[1;33m             \u001b[0mengine\u001b[0m\u001b[1;33m=\u001b[0m\u001b[0mengine\u001b[0m\u001b[1;33m,\u001b[0m\u001b[1;33m\u001b[0m\u001b[1;33m\u001b[0m\u001b[0m\n\u001b[0m\u001b[0;32m   2182\u001b[0m         )\n\u001b[0;32m   2183\u001b[0m \u001b[1;33m\u001b[0m\u001b[0m\n",
      "\u001b[1;32mD:\\ana\\envs\\packt_torch\\lib\\site-packages\\pandas\\io\\formats\\excel.py\u001b[0m in \u001b[0;36mwrite\u001b[1;34m(self, writer, sheet_name, startrow, startcol, freeze_panes, engine)\u001b[0m\n\u001b[0;32m    717\u001b[0m         \u001b[1;32mif\u001b[0m \u001b[0mnum_rows\u001b[0m \u001b[1;33m>\u001b[0m \u001b[0mself\u001b[0m\u001b[1;33m.\u001b[0m\u001b[0mmax_rows\u001b[0m \u001b[1;32mor\u001b[0m \u001b[0mnum_cols\u001b[0m \u001b[1;33m>\u001b[0m \u001b[0mself\u001b[0m\u001b[1;33m.\u001b[0m\u001b[0mmax_cols\u001b[0m\u001b[1;33m:\u001b[0m\u001b[1;33m\u001b[0m\u001b[1;33m\u001b[0m\u001b[0m\n\u001b[0;32m    718\u001b[0m             raise ValueError(\n\u001b[1;32m--> 719\u001b[1;33m                 \u001b[1;34mf\"This sheet is too large! Your sheet size is: {num_rows}, {num_cols} \"\u001b[0m\u001b[1;33m\u001b[0m\u001b[1;33m\u001b[0m\u001b[0m\n\u001b[0m\u001b[0;32m    720\u001b[0m                 \u001b[1;34mf\"Max sheet size is: {self.max_rows}, {self.max_cols}\"\u001b[0m\u001b[1;33m\u001b[0m\u001b[1;33m\u001b[0m\u001b[0m\n\u001b[0;32m    721\u001b[0m             )\n",
      "\u001b[1;31mValueError\u001b[0m: This sheet is too large! Your sheet size is: 321, 41473 Max sheet size is: 1048576, 16384"
     ]
    }
   ],
   "source": [
    "\n",
    "import pandas as pd\n",
    "df = pd.DataFrame (features)\n",
    "filepath = 'MIAS_features_VGG_19_bn_generic.xlsx'\n",
    "df.to_excel(filepath, index=False)"
   ]
  },
  {
   "cell_type": "code",
   "execution_count": 53,
   "metadata": {
    "executionInfo": {
     "elapsed": 1779,
     "status": "ok",
     "timestamp": 1606402324847,
     "user": {
      "displayName": "Rishav Dhar",
      "photoUrl": "https://lh3.googleusercontent.com/a-/AOh14Ghn_1AjHQBmOuTDMOxEUdE8q7C0lmtA3nHb8NhGzQ=s64",
      "userId": "04826551111113658268"
     },
     "user_tz": -330
    },
    "id": "S20z2t2BBh7o"
   },
   "outputs": [],
   "source": [
    "# model.classifier[6] = Sequential(\n",
    "#                       Linear(4096, 2))\n",
    "# for param in model.classifier[6].parameters():\n",
    "#     param.requires_grad = True"
   ]
  },
  {
   "cell_type": "code",
   "execution_count": null,
   "metadata": {
    "id": "DWuJOWYJ9F13"
   },
   "outputs": [],
   "source": []
  },
  {
   "cell_type": "code",
   "execution_count": null,
   "metadata": {},
   "outputs": [],
   "source": []
  },
  {
   "cell_type": "code",
   "execution_count": null,
   "metadata": {},
   "outputs": [],
   "source": []
  },
  {
   "cell_type": "code",
   "execution_count": null,
   "metadata": {},
   "outputs": [],
   "source": []
  }
 ],
 "metadata": {
  "colab": {
   "authorship_tag": "ABX9TyOjuoYt4/Li++vN1HrmVxqx",
   "name": "Mias FE.ipynb",
   "provenance": []
  },
  "kernelspec": {
   "display_name": "Python 3",
   "language": "python",
   "name": "python3"
  },
  "language_info": {
   "codemirror_mode": {
    "name": "ipython",
    "version": 3
   },
   "file_extension": ".py",
   "mimetype": "text/x-python",
   "name": "python",
   "nbconvert_exporter": "python",
   "pygments_lexer": "ipython3",
   "version": "3.7.4"
  }
 },
 "nbformat": 4,
 "nbformat_minor": 1
}
