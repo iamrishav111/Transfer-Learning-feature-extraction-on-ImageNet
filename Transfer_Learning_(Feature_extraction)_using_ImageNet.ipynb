{
  "nbformat": 4,
  "nbformat_minor": 0,
  "metadata": {
    "colab": {
      "name": "Transfer Learning (Feature extraction) using ImageNet.ipynb",
      "provenance": []
    },
    "kernelspec": {
      "name": "python3",
      "display_name": "Python 3"
    },
    "widgets": {
      "application/vnd.jupyter.widget-state+json": {
        "a40b4f5868484936aa5009936b112dce": {
          "model_module": "@jupyter-widgets/controls",
          "model_name": "HBoxModel",
          "state": {
            "_view_name": "HBoxView",
            "_dom_classes": [],
            "_model_name": "HBoxModel",
            "_view_module": "@jupyter-widgets/controls",
            "_model_module_version": "1.5.0",
            "_view_count": null,
            "_view_module_version": "1.5.0",
            "box_style": "",
            "layout": "IPY_MODEL_3f25ca9020c8490382e94c80cca4b5af",
            "_model_module": "@jupyter-widgets/controls",
            "children": [
              "IPY_MODEL_dc037f1d732e459886d473f3564fd8eb",
              "IPY_MODEL_f66fedae329e4ef7a7dbdcc1fd88a1f4"
            ]
          }
        },
        "3f25ca9020c8490382e94c80cca4b5af": {
          "model_module": "@jupyter-widgets/base",
          "model_name": "LayoutModel",
          "state": {
            "_view_name": "LayoutView",
            "grid_template_rows": null,
            "right": null,
            "justify_content": null,
            "_view_module": "@jupyter-widgets/base",
            "overflow": null,
            "_model_module_version": "1.2.0",
            "_view_count": null,
            "flex_flow": null,
            "width": null,
            "min_width": null,
            "border": null,
            "align_items": null,
            "bottom": null,
            "_model_module": "@jupyter-widgets/base",
            "top": null,
            "grid_column": null,
            "overflow_y": null,
            "overflow_x": null,
            "grid_auto_flow": null,
            "grid_area": null,
            "grid_template_columns": null,
            "flex": null,
            "_model_name": "LayoutModel",
            "justify_items": null,
            "grid_row": null,
            "max_height": null,
            "align_content": null,
            "visibility": null,
            "align_self": null,
            "height": null,
            "min_height": null,
            "padding": null,
            "grid_auto_rows": null,
            "grid_gap": null,
            "max_width": null,
            "order": null,
            "_view_module_version": "1.2.0",
            "grid_template_areas": null,
            "object_position": null,
            "object_fit": null,
            "grid_auto_columns": null,
            "margin": null,
            "display": null,
            "left": null
          }
        },
        "dc037f1d732e459886d473f3564fd8eb": {
          "model_module": "@jupyter-widgets/controls",
          "model_name": "FloatProgressModel",
          "state": {
            "_view_name": "ProgressView",
            "style": "IPY_MODEL_21e6ddfc712f44279083d49b38360353",
            "_dom_classes": [],
            "description": "100%",
            "_model_name": "FloatProgressModel",
            "bar_style": "success",
            "max": 553507836,
            "_view_module": "@jupyter-widgets/controls",
            "_model_module_version": "1.5.0",
            "value": 553507836,
            "_view_count": null,
            "_view_module_version": "1.5.0",
            "orientation": "horizontal",
            "min": 0,
            "description_tooltip": null,
            "_model_module": "@jupyter-widgets/controls",
            "layout": "IPY_MODEL_770fbad84bb94639ab5078aed77c637d"
          }
        },
        "f66fedae329e4ef7a7dbdcc1fd88a1f4": {
          "model_module": "@jupyter-widgets/controls",
          "model_name": "HTMLModel",
          "state": {
            "_view_name": "HTMLView",
            "style": "IPY_MODEL_e413281066bc49d4b93f2262878ef221",
            "_dom_classes": [],
            "description": "",
            "_model_name": "HTMLModel",
            "placeholder": "​",
            "_view_module": "@jupyter-widgets/controls",
            "_model_module_version": "1.5.0",
            "value": " 528M/528M [00:03&lt;00:00, 162MB/s]",
            "_view_count": null,
            "_view_module_version": "1.5.0",
            "description_tooltip": null,
            "_model_module": "@jupyter-widgets/controls",
            "layout": "IPY_MODEL_29bf6fc194e54f9b850a42c8ce72daa8"
          }
        },
        "21e6ddfc712f44279083d49b38360353": {
          "model_module": "@jupyter-widgets/controls",
          "model_name": "ProgressStyleModel",
          "state": {
            "_view_name": "StyleView",
            "_model_name": "ProgressStyleModel",
            "description_width": "initial",
            "_view_module": "@jupyter-widgets/base",
            "_model_module_version": "1.5.0",
            "_view_count": null,
            "_view_module_version": "1.2.0",
            "bar_color": null,
            "_model_module": "@jupyter-widgets/controls"
          }
        },
        "770fbad84bb94639ab5078aed77c637d": {
          "model_module": "@jupyter-widgets/base",
          "model_name": "LayoutModel",
          "state": {
            "_view_name": "LayoutView",
            "grid_template_rows": null,
            "right": null,
            "justify_content": null,
            "_view_module": "@jupyter-widgets/base",
            "overflow": null,
            "_model_module_version": "1.2.0",
            "_view_count": null,
            "flex_flow": null,
            "width": null,
            "min_width": null,
            "border": null,
            "align_items": null,
            "bottom": null,
            "_model_module": "@jupyter-widgets/base",
            "top": null,
            "grid_column": null,
            "overflow_y": null,
            "overflow_x": null,
            "grid_auto_flow": null,
            "grid_area": null,
            "grid_template_columns": null,
            "flex": null,
            "_model_name": "LayoutModel",
            "justify_items": null,
            "grid_row": null,
            "max_height": null,
            "align_content": null,
            "visibility": null,
            "align_self": null,
            "height": null,
            "min_height": null,
            "padding": null,
            "grid_auto_rows": null,
            "grid_gap": null,
            "max_width": null,
            "order": null,
            "_view_module_version": "1.2.0",
            "grid_template_areas": null,
            "object_position": null,
            "object_fit": null,
            "grid_auto_columns": null,
            "margin": null,
            "display": null,
            "left": null
          }
        },
        "e413281066bc49d4b93f2262878ef221": {
          "model_module": "@jupyter-widgets/controls",
          "model_name": "DescriptionStyleModel",
          "state": {
            "_view_name": "StyleView",
            "_model_name": "DescriptionStyleModel",
            "description_width": "",
            "_view_module": "@jupyter-widgets/base",
            "_model_module_version": "1.5.0",
            "_view_count": null,
            "_view_module_version": "1.2.0",
            "_model_module": "@jupyter-widgets/controls"
          }
        },
        "29bf6fc194e54f9b850a42c8ce72daa8": {
          "model_module": "@jupyter-widgets/base",
          "model_name": "LayoutModel",
          "state": {
            "_view_name": "LayoutView",
            "grid_template_rows": null,
            "right": null,
            "justify_content": null,
            "_view_module": "@jupyter-widgets/base",
            "overflow": null,
            "_model_module_version": "1.2.0",
            "_view_count": null,
            "flex_flow": null,
            "width": null,
            "min_width": null,
            "border": null,
            "align_items": null,
            "bottom": null,
            "_model_module": "@jupyter-widgets/base",
            "top": null,
            "grid_column": null,
            "overflow_y": null,
            "overflow_x": null,
            "grid_auto_flow": null,
            "grid_area": null,
            "grid_template_columns": null,
            "flex": null,
            "_model_name": "LayoutModel",
            "justify_items": null,
            "grid_row": null,
            "max_height": null,
            "align_content": null,
            "visibility": null,
            "align_self": null,
            "height": null,
            "min_height": null,
            "padding": null,
            "grid_auto_rows": null,
            "grid_gap": null,
            "max_width": null,
            "order": null,
            "_view_module_version": "1.2.0",
            "grid_template_areas": null,
            "object_position": null,
            "object_fit": null,
            "grid_auto_columns": null,
            "margin": null,
            "display": null,
            "left": null
          }
        }
      }
    }
  },
  "cells": [
    {
      "cell_type": "code",
      "metadata": {
        "id": "4MvRtxUR3aaT"
      },
      "source": [
        "# importing the libraries\n",
        "import pandas as pd\n",
        "import numpy as np\n",
        "from tqdm import tqdm\n",
        "\n",
        "# for reading and displaying images\n",
        "from skimage.io import imread\n",
        "from skimage.transform import resize\n",
        "import matplotlib.pyplot as plt\n",
        "# %matplotlib inline\n",
        "\n",
        "# for creating validation set\n",
        "from sklearn.model_selection import train_test_split\n",
        "\n",
        "# for evaluating the model\n",
        "from sklearn.metrics import accuracy_score\n",
        "\n",
        "# PyTorch libraries and modules\n",
        "import torch\n",
        "from torch.autograd import Variable\n",
        "from torch.nn import Linear, ReLU, CrossEntropyLoss, Sequential, Conv2d, MaxPool2d, Module, Softmax, BatchNorm2d, Dropout\n",
        "from torch.optim import Adam, SGD\n",
        "\n",
        "# torchvision for pre-trained models\n",
        "from torchvision import models"
      ],
      "execution_count": 79,
      "outputs": []
    },
    {
      "cell_type": "code",
      "metadata": {
        "colab": {
          "base_uri": "https://localhost:8080/"
        },
        "id": "3fdIqq2H6Njl",
        "outputId": "81cb531c-c15d-4fab-e07d-2b119115f2b0"
      },
      "source": [
        "from google.colab import drive\n",
        "drive.mount(\"/content/gdrive\")"
      ],
      "execution_count": 80,
      "outputs": [
        {
          "output_type": "stream",
          "text": [
            "Mounted at /content/gdrive\n"
          ],
          "name": "stdout"
        }
      ]
    },
    {
      "cell_type": "code",
      "metadata": {
        "colab": {
          "base_uri": "https://localhost:8080/",
          "height": 204
        },
        "id": "KGt1iyC6Myno",
        "outputId": "82de7a0a-2a7f-4ab9-ae62-5aea50114e32"
      },
      "source": [
        "train=pd.read_csv('/content/gdrive/MyDrive/emergency_vs_non-emergency_dataset/emergency_train.csv')\n",
        "train.head()\n",
        "\n"
      ],
      "execution_count": 101,
      "outputs": [
        {
          "output_type": "execute_result",
          "data": {
            "text/html": [
              "<div>\n",
              "<style scoped>\n",
              "    .dataframe tbody tr th:only-of-type {\n",
              "        vertical-align: middle;\n",
              "    }\n",
              "\n",
              "    .dataframe tbody tr th {\n",
              "        vertical-align: top;\n",
              "    }\n",
              "\n",
              "    .dataframe thead th {\n",
              "        text-align: right;\n",
              "    }\n",
              "</style>\n",
              "<table border=\"1\" class=\"dataframe\">\n",
              "  <thead>\n",
              "    <tr style=\"text-align: right;\">\n",
              "      <th></th>\n",
              "      <th>image_names</th>\n",
              "      <th>emergency_or_not</th>\n",
              "    </tr>\n",
              "  </thead>\n",
              "  <tbody>\n",
              "    <tr>\n",
              "      <th>0</th>\n",
              "      <td>1503.jpg</td>\n",
              "      <td>0</td>\n",
              "    </tr>\n",
              "    <tr>\n",
              "      <th>1</th>\n",
              "      <td>1420.jpg</td>\n",
              "      <td>0</td>\n",
              "    </tr>\n",
              "    <tr>\n",
              "      <th>2</th>\n",
              "      <td>1764.jpg</td>\n",
              "      <td>0</td>\n",
              "    </tr>\n",
              "    <tr>\n",
              "      <th>3</th>\n",
              "      <td>1356.jpg</td>\n",
              "      <td>0</td>\n",
              "    </tr>\n",
              "    <tr>\n",
              "      <th>4</th>\n",
              "      <td>1117.jpg</td>\n",
              "      <td>0</td>\n",
              "    </tr>\n",
              "  </tbody>\n",
              "</table>\n",
              "</div>"
            ],
            "text/plain": [
              "  image_names  emergency_or_not\n",
              "0    1503.jpg                 0\n",
              "1    1420.jpg                 0\n",
              "2    1764.jpg                 0\n",
              "3    1356.jpg                 0\n",
              "4    1117.jpg                 0"
            ]
          },
          "metadata": {
            "tags": []
          },
          "execution_count": 101
        }
      ]
    },
    {
      "cell_type": "code",
      "metadata": {
        "colab": {
          "base_uri": "https://localhost:8080/"
        },
        "id": "D03_Fd9BN22J",
        "outputId": "f74d0224-ab80-42a2-eb40-070caba97336"
      },
      "source": [
        "train['image_names']"
      ],
      "execution_count": 84,
      "outputs": [
        {
          "output_type": "execute_result",
          "data": {
            "text/plain": [
              "0       1503.jpg\n",
              "1       1420.jpg\n",
              "2       1764.jpg\n",
              "3       1356.jpg\n",
              "4       1117.jpg\n",
              "          ...   \n",
              "1641    1638.jpg\n",
              "1642    1095.jpg\n",
              "1643    1130.jpg\n",
              "1644    1294.jpg\n",
              "1645     860.jpg\n",
              "Name: image_names, Length: 1646, dtype: object"
            ]
          },
          "metadata": {
            "tags": []
          },
          "execution_count": 84
        }
      ]
    },
    {
      "cell_type": "code",
      "metadata": {
        "colab": {
          "base_uri": "https://localhost:8080/"
        },
        "id": "YIxz23LWN-lh",
        "outputId": "9fc90c53-633c-4c9f-d89a-1bc013ac50a1"
      },
      "source": [
        "train_img = []\n",
        "for img_name in tqdm(train['image_names']):\n",
        "    # defining the image path\n",
        "    image_path = '/content/gdrive/MyDrive/emergency_vs_non-emergency_dataset/images/' + img_name\n",
        "    # reading the image\n",
        "    img = imread(image_path)\n",
        "    # normalizing the pixel values\n",
        "    img = img/255\n",
        "    # resizing the image to (224,224,3)\n",
        "    img = resize(img, output_shape=(224,224,3), mode='constant', anti_aliasing=True)\n",
        "    # converting the type of pixel to float 32\n",
        "    img = img.astype('float32')\n",
        "    # appending the image into the list\n",
        "    train_img.append(img)\n",
        "\n",
        "# converting the list to numpy array\n",
        "train_x = np.array(train_img)\n",
        "train_x.shape"
      ],
      "execution_count": 102,
      "outputs": [
        {
          "output_type": "stream",
          "text": [
            "100%|██████████| 1646/1646 [00:25<00:00, 65.00it/s]\n"
          ],
          "name": "stderr"
        },
        {
          "output_type": "execute_result",
          "data": {
            "text/plain": [
              "(1646, 224, 224, 3)"
            ]
          },
          "metadata": {
            "tags": []
          },
          "execution_count": 102
        }
      ]
    },
    {
      "cell_type": "code",
      "metadata": {
        "colab": {
          "base_uri": "https://localhost:8080/",
          "height": 286
        },
        "id": "mzDoWFiHSvyk",
        "outputId": "a37a05c3-56df-41b2-83b0-622d87560c9f"
      },
      "source": [
        "index = 140\n",
        "plt.imshow(train_x[index])\n",
        "if (train['emergency_or_not'][index] == 1):\n",
        "    print('It is an Emergency vehicle')\n",
        "else:\n",
        "    print('It is a Non-Emergency vehicle')"
      ],
      "execution_count": 103,
      "outputs": [
        {
          "output_type": "stream",
          "text": [
            "It is a Non-Emergency vehicle\n"
          ],
          "name": "stdout"
        },
        {
          "output_type": "display_data",
          "data": {
            "image/png": "[encoded data removed]",
            "text/plain": [
              "<Figure size 432x288 with 1 Axes>"
            ]
          },
          "metadata": {
            "tags": [],
            "needs_background": "light"
          }
        }
      ]
    },
    {
      "cell_type": "code",
      "metadata": {
        "colab": {
          "base_uri": "https://localhost:8080/"
        },
        "id": "1HSlT_3wSyH3",
        "outputId": "89b098d1-ab18-4247-cb94-3ad508fb4967"
      },
      "source": [
        "train_y=train['emergency_or_not'].values\n",
        "print(len(train_y))\n",
        "train_x\n"
      ],
      "execution_count": 104,
      "outputs": [
        {
          "output_type": "stream",
          "text": [
            "1646\n"
          ],
          "name": "stdout"
        },
        {
          "output_type": "execute_result",
          "data": {
            "text/plain": [
              "array([[[[3.68627459e-01, 3.76470596e-01, 2.82352954e-01],\n",
              "         [3.84313732e-01, 3.92156869e-01, 3.09803933e-01],\n",
              "         [4.31372553e-01, 4.35294122e-01, 3.80392164e-01],\n",
              "         ...,\n",
              "         [1.01960786e-01, 2.23529413e-01, 2.31372550e-01],\n",
              "         [9.01960805e-02, 2.31372550e-01, 2.31372550e-01],\n",
              "         [5.49019612e-02, 2.07843140e-01, 2.03921571e-01]],\n",
              "\n",
              "        [[4.47058827e-01, 4.54901963e-01, 3.60784322e-01],\n",
              "         [4.03921574e-01, 4.11764711e-01, 3.29411775e-01],\n",
              "         [3.72549027e-01, 3.76470596e-01, 3.21568638e-01],\n",
              "         ...,\n",
              "         [8.62745121e-02, 1.96078435e-01, 2.07843140e-01],\n",
              "         [9.01960805e-02, 2.11764708e-01, 2.19607845e-01],\n",
              "         [7.45098069e-02, 2.07843140e-01, 2.03921571e-01]],\n",
              "\n",
              "        [[3.52941185e-01, 3.60784322e-01, 2.66666681e-01],\n",
              "         [4.03921574e-01, 4.11764711e-01, 3.29411775e-01],\n",
              "         [4.11764711e-01, 4.15686280e-01, 3.60784322e-01],\n",
              "         ...,\n",
              "         [6.66666701e-02, 1.41176477e-01, 1.64705887e-01],\n",
              "         [8.23529437e-02, 1.76470593e-01, 1.84313729e-01],\n",
              "         [8.23529437e-02, 1.92156866e-01, 1.96078435e-01]],\n",
              "\n",
              "        ...,\n",
              "\n",
              "        [[3.09803933e-01, 3.05882365e-01, 2.98039228e-01],\n",
              "         [3.17647070e-01, 3.13725501e-01, 3.05882365e-01],\n",
              "         [3.25490206e-01, 3.21568638e-01, 3.13725501e-01],\n",
              "         ...,\n",
              "         [3.09803933e-01, 3.05882365e-01, 2.98039228e-01],\n",
              "         [3.01960796e-01, 2.98039228e-01, 2.90196091e-01],\n",
              "         [2.82352954e-01, 2.78431386e-01, 2.70588249e-01]],\n",
              "\n",
              "        [[2.98039228e-01, 2.94117659e-01, 2.86274523e-01],\n",
              "         [3.05882365e-01, 3.01960796e-01, 2.94117659e-01],\n",
              "         [3.17647070e-01, 3.13725501e-01, 3.05882365e-01],\n",
              "         ...,\n",
              "         [2.86274523e-01, 2.82352954e-01, 2.74509817e-01],\n",
              "         [2.78431386e-01, 2.74509817e-01, 2.66666681e-01],\n",
              "         [2.62745112e-01, 2.58823544e-01, 2.50980407e-01]],\n",
              "\n",
              "        [[3.01960796e-01, 2.98039228e-01, 2.90196091e-01],\n",
              "         [3.13725501e-01, 3.09803933e-01, 3.01960796e-01],\n",
              "         [3.25490206e-01, 3.21568638e-01, 3.13725501e-01],\n",
              "         ...,\n",
              "         [2.82352954e-01, 2.78431386e-01, 2.70588249e-01],\n",
              "         [2.78431386e-01, 2.74509817e-01, 2.66666681e-01],\n",
              "         [2.62745112e-01, 2.58823544e-01, 2.50980407e-01]]],\n",
              "\n",
              "\n",
              "       [[[8.47058833e-01, 9.13725495e-01, 9.84313726e-01],\n",
              "         [8.50980401e-01, 9.17647064e-01, 9.88235295e-01],\n",
              "         [8.47058833e-01, 9.21568632e-01, 9.88235295e-01],\n",
              "         ...,\n",
              "         [8.98039222e-01, 9.13725495e-01, 9.17647064e-01],\n",
              "         [8.98039222e-01, 9.13725495e-01, 9.17647064e-01],\n",
              "         [8.98039222e-01, 9.13725495e-01, 9.17647064e-01]],\n",
              "\n",
              "        [[8.58823538e-01, 9.25490201e-01, 9.88235295e-01],\n",
              "         [8.62745106e-01, 9.29411769e-01, 9.92156863e-01],\n",
              "         [8.66666675e-01, 9.33333337e-01, 9.96078432e-01],\n",
              "         ...,\n",
              "         [9.01960790e-01, 9.17647064e-01, 9.21568632e-01],\n",
              "         [9.01960790e-01, 9.17647064e-01, 9.21568632e-01],\n",
              "         [9.01960790e-01, 9.17647064e-01, 9.21568632e-01]],\n",
              "\n",
              "        [[8.47058833e-01, 9.13725495e-01, 9.76470590e-01],\n",
              "         [8.50980401e-01, 9.17647064e-01, 9.80392158e-01],\n",
              "         [8.58823538e-01, 9.25490201e-01, 9.88235295e-01],\n",
              "         ...,\n",
              "         [9.05882359e-01, 9.21568632e-01, 9.25490201e-01],\n",
              "         [9.01960790e-01, 9.17647064e-01, 9.21568632e-01],\n",
              "         [9.01960790e-01, 9.17647064e-01, 9.21568632e-01]],\n",
              "\n",
              "        ...,\n",
              "\n",
              "        [[1.37254909e-01, 1.76470593e-01, 7.84313753e-02],\n",
              "         [1.21568628e-01, 1.60784319e-01, 6.27451017e-02],\n",
              "         [1.56862751e-01, 1.96078435e-01, 9.80392173e-02],\n",
              "         ...,\n",
              "         [3.68627459e-01, 4.62745100e-01, 2.27450982e-01],\n",
              "         [3.72549027e-01, 4.66666669e-01, 2.31372550e-01],\n",
              "         [4.19607848e-01, 5.13725519e-01, 2.78431386e-01]],\n",
              "\n",
              "        [[1.60784319e-01, 2.00000003e-01, 1.01960786e-01],\n",
              "         [1.25490203e-01, 1.64705887e-01, 6.66666701e-02],\n",
              "         [1.33333340e-01, 1.72549024e-01, 7.45098069e-02],\n",
              "         ...,\n",
              "         [4.39215690e-01, 5.33333361e-01, 2.98039228e-01],\n",
              "         [4.23529416e-01, 5.17647088e-01, 2.82352954e-01],\n",
              "         [4.27450985e-01, 5.21568656e-01, 2.86274523e-01]],\n",
              "\n",
              "        [[1.37254909e-01, 1.76470593e-01, 7.84313753e-02],\n",
              "         [1.25490203e-01, 1.64705887e-01, 6.66666701e-02],\n",
              "         [1.64705887e-01, 2.03921571e-01, 1.05882354e-01],\n",
              "         ...,\n",
              "         [4.23529416e-01, 5.17647088e-01, 2.82352954e-01],\n",
              "         [4.23529416e-01, 5.17647088e-01, 2.82352954e-01],\n",
              "         [4.11764711e-01, 5.05882382e-01, 2.70588249e-01]]],\n",
              "\n",
              "\n",
              "       [[[2.43137255e-01, 2.50980407e-01, 2.07843140e-01],\n",
              "         [2.23529413e-01, 2.35294119e-01, 1.68627456e-01],\n",
              "         [4.31372553e-01, 4.39215690e-01, 3.45098048e-01],\n",
              "         ...,\n",
              "         [3.64705890e-01, 4.23529416e-01, 2.54901975e-01],\n",
              "         [3.41176480e-01, 4.07843143e-01, 2.35294119e-01],\n",
              "         [4.50980395e-01, 5.17647088e-01, 3.41176480e-01]],\n",
              "\n",
              "        [[2.82352954e-01, 2.90196091e-01, 2.47058824e-01],\n",
              "         [3.01960796e-01, 3.09803933e-01, 2.54901975e-01],\n",
              "         [4.86274511e-01, 4.94117647e-01, 4.00000006e-01],\n",
              "         ...,\n",
              "         [2.35294119e-01, 2.94117659e-01, 1.25490203e-01],\n",
              "         [4.00000006e-01, 4.66666669e-01, 2.90196091e-01],\n",
              "         [4.43137258e-01, 5.09803951e-01, 3.33333343e-01]],\n",
              "\n",
              "        [[4.23529416e-01, 4.27450985e-01, 3.96078438e-01],\n",
              "         [3.84313732e-01, 3.92156869e-01, 3.41176480e-01],\n",
              "         [4.78431374e-01, 4.86274511e-01, 4.00000006e-01],\n",
              "         ...,\n",
              "         [2.43137255e-01, 3.09803933e-01, 1.33333340e-01],\n",
              "         [3.84313732e-01, 4.50980395e-01, 2.74509817e-01],\n",
              "         [3.52941185e-01, 4.23529416e-01, 2.35294119e-01]],\n",
              "\n",
              "        ...,\n",
              "\n",
              "        [[6.54901981e-01, 6.58823550e-01, 6.78431392e-01],\n",
              "         [4.78431374e-01, 4.82352942e-01, 5.01960814e-01],\n",
              "         [4.74509805e-01, 4.78431374e-01, 4.98039216e-01],\n",
              "         ...,\n",
              "         [6.35294139e-01, 6.11764729e-01, 6.11764729e-01],\n",
              "         [5.92156887e-01, 5.68627477e-01, 5.68627477e-01],\n",
              "         [4.94117647e-01, 4.70588237e-01, 4.70588237e-01]],\n",
              "\n",
              "        [[5.49019635e-01, 5.52941203e-01, 5.72549045e-01],\n",
              "         [6.31372571e-01, 6.35294139e-01, 6.54901981e-01],\n",
              "         [6.11764729e-01, 6.15686297e-01, 6.35294139e-01],\n",
              "         ...,\n",
              "         [6.31372571e-01, 6.07843161e-01, 6.07843161e-01],\n",
              "         [7.45098054e-01, 7.21568644e-01, 7.21568644e-01],\n",
              "         [6.27451003e-01, 6.03921592e-01, 6.03921592e-01]],\n",
              "\n",
              "        [[5.52941203e-01, 5.56862772e-01, 5.76470613e-01],\n",
              "         [6.62745118e-01, 6.66666687e-01, 6.86274529e-01],\n",
              "         [5.13725519e-01, 5.17647088e-01, 5.37254930e-01],\n",
              "         ...,\n",
              "         [6.54901981e-01, 6.31372571e-01, 6.31372571e-01],\n",
              "         [7.09803939e-01, 6.86274529e-01, 6.86274529e-01],\n",
              "         [4.82352942e-01, 4.58823532e-01, 4.58823532e-01]]],\n",
              "\n",
              "\n",
              "       ...,\n",
              "\n",
              "\n",
              "       [[[2.74509817e-01, 2.62745112e-01, 1.88235298e-01],\n",
              "         [7.45098069e-02, 6.27451017e-02, 4.52796836e-15],\n",
              "         [2.43137255e-01, 2.31372550e-01, 1.56862751e-01],\n",
              "         ...,\n",
              "         [7.84313772e-03, 1.17647061e-02, 0.00000000e+00],\n",
              "         [0.00000000e+00, 3.92156886e-03, 0.00000000e+00],\n",
              "         [0.00000000e+00, 3.92156886e-03, 0.00000000e+00]],\n",
              "\n",
              "        [[1.56862754e-02, 7.84313772e-03, 5.34996894e-15],\n",
              "         [7.84313753e-02, 7.05882385e-02, 7.01835110e-15],\n",
              "         [3.33333343e-01, 3.25490206e-01, 2.43137255e-01],\n",
              "         ...,\n",
              "         [2.22915381e-16, 3.92156886e-03, 0.00000000e+00],\n",
              "         [2.67498447e-15, 3.92156886e-03, 8.91661525e-16],\n",
              "         [2.35294122e-02, 2.74509806e-02, 7.84313772e-03]],\n",
              "\n",
              "        [[2.23529413e-01, 2.15686277e-01, 1.33333340e-01],\n",
              "         [2.31372550e-01, 2.23529413e-01, 1.41176477e-01],\n",
              "         [2.50980407e-01, 2.43137255e-01, 1.60784319e-01],\n",
              "         ...,\n",
              "         [0.00000000e+00, 1.11457691e-16, 0.00000000e+00],\n",
              "         [3.12081518e-15, 3.23227286e-15, 2.22915376e-15],\n",
              "         [2.74509806e-02, 2.74509806e-02, 1.96078438e-02]],\n",
              "\n",
              "        ...,\n",
              "\n",
              "        [[4.74509805e-01, 4.78431374e-01, 3.05882365e-01],\n",
              "         [3.05882365e-01, 3.01960796e-01, 1.29411772e-01],\n",
              "         [1.76470593e-01, 1.72549024e-01, 9.36941175e-15],\n",
              "         ...,\n",
              "         [4.35294122e-01, 4.03921574e-01, 2.58823544e-01],\n",
              "         [6.11764729e-01, 5.80392182e-01, 4.35294122e-01],\n",
              "         [3.84313732e-01, 3.52941185e-01, 2.07843140e-01]],\n",
              "\n",
              "        [[3.96078438e-01, 4.00000006e-01, 2.27450982e-01],\n",
              "         [5.17647088e-01, 5.21568656e-01, 3.49019617e-01],\n",
              "         [4.27450985e-01, 4.23529416e-01, 2.50980407e-01],\n",
              "         ...,\n",
              "         [4.43137258e-01, 4.15686280e-01, 2.50980407e-01],\n",
              "         [3.80392164e-01, 3.52941185e-01, 1.88235298e-01],\n",
              "         [5.52941203e-01, 5.25490224e-01, 3.60784322e-01]],\n",
              "\n",
              "        [[4.23529416e-01, 4.27450985e-01, 2.54901975e-01],\n",
              "         [4.35294122e-01, 4.39215690e-01, 2.66666681e-01],\n",
              "         [5.52941203e-01, 5.49019635e-01, 3.76470596e-01],\n",
              "         ...,\n",
              "         [4.78431374e-01, 4.50980395e-01, 2.78431386e-01],\n",
              "         [3.76470596e-01, 3.49019617e-01, 1.76470593e-01],\n",
              "         [5.92156887e-01, 5.64705908e-01, 3.92156869e-01]]],\n",
              "\n",
              "\n",
              "       [[[5.29411793e-01, 5.29411793e-01, 5.29411793e-01],\n",
              "         [5.21568656e-01, 5.21568656e-01, 5.21568656e-01],\n",
              "         [5.21568656e-01, 5.21568656e-01, 5.21568656e-01],\n",
              "         ...,\n",
              "         [1.88235298e-01, 1.88235298e-01, 1.88235298e-01],\n",
              "         [2.19607845e-01, 2.19607845e-01, 2.19607845e-01],\n",
              "         [2.54901975e-01, 2.54901975e-01, 2.54901975e-01]],\n",
              "\n",
              "        [[5.88235319e-01, 5.88235319e-01, 5.88235319e-01],\n",
              "         [5.84313750e-01, 5.84313750e-01, 5.84313750e-01],\n",
              "         [5.88235319e-01, 5.88235319e-01, 5.88235319e-01],\n",
              "         ...,\n",
              "         [2.07843140e-01, 2.07843140e-01, 2.07843140e-01],\n",
              "         [2.35294119e-01, 2.35294119e-01, 2.35294119e-01],\n",
              "         [2.62745112e-01, 2.62745112e-01, 2.62745112e-01]],\n",
              "\n",
              "        [[6.66666687e-01, 6.66666687e-01, 6.66666687e-01],\n",
              "         [6.66666687e-01, 6.66666687e-01, 6.66666687e-01],\n",
              "         [6.70588255e-01, 6.70588255e-01, 6.70588255e-01],\n",
              "         ...,\n",
              "         [2.47058824e-01, 2.47058824e-01, 2.47058824e-01],\n",
              "         [2.66666681e-01, 2.66666681e-01, 2.66666681e-01],\n",
              "         [2.86274523e-01, 2.86274523e-01, 2.86274523e-01]],\n",
              "\n",
              "        ...,\n",
              "\n",
              "        [[6.62745118e-01, 6.62745118e-01, 6.62745118e-01],\n",
              "         [6.70588255e-01, 6.70588255e-01, 6.70588255e-01],\n",
              "         [6.78431392e-01, 6.78431392e-01, 6.78431392e-01],\n",
              "         ...,\n",
              "         [3.01960796e-01, 3.01960796e-01, 3.01960796e-01],\n",
              "         [3.13725501e-01, 3.13725501e-01, 3.13725501e-01],\n",
              "         [3.05882365e-01, 3.05882365e-01, 3.05882365e-01]],\n",
              "\n",
              "        [[6.66666687e-01, 6.66666687e-01, 6.66666687e-01],\n",
              "         [6.70588255e-01, 6.70588255e-01, 6.70588255e-01],\n",
              "         [6.78431392e-01, 6.78431392e-01, 6.78431392e-01],\n",
              "         ...,\n",
              "         [3.13725501e-01, 3.13725501e-01, 3.13725501e-01],\n",
              "         [3.13725501e-01, 3.13725501e-01, 3.13725501e-01],\n",
              "         [3.01960796e-01, 3.01960796e-01, 3.01960796e-01]],\n",
              "\n",
              "        [[6.70588255e-01, 6.70588255e-01, 6.70588255e-01],\n",
              "         [6.70588255e-01, 6.70588255e-01, 6.70588255e-01],\n",
              "         [6.74509823e-01, 6.74509823e-01, 6.74509823e-01],\n",
              "         ...,\n",
              "         [3.21568638e-01, 3.21568638e-01, 3.21568638e-01],\n",
              "         [3.13725501e-01, 3.13725501e-01, 3.13725501e-01],\n",
              "         [2.94117659e-01, 2.94117659e-01, 2.94117659e-01]]],\n",
              "\n",
              "\n",
              "       [[[5.56862772e-01, 5.84313750e-01, 4.62745100e-01],\n",
              "         [3.56862754e-01, 3.84313732e-01, 2.62745112e-01],\n",
              "         [1.92156866e-01, 2.07843140e-01, 1.09803922e-01],\n",
              "         ...,\n",
              "         [2.11764708e-01, 2.11764708e-01, 2.19607845e-01],\n",
              "         [2.43137255e-01, 2.43137255e-01, 2.50980407e-01],\n",
              "         [2.94117659e-01, 2.94117659e-01, 3.01960796e-01]],\n",
              "\n",
              "        [[5.72549045e-01, 6.00000024e-01, 4.78431374e-01],\n",
              "         [3.76470596e-01, 4.00000006e-01, 2.90196091e-01],\n",
              "         [2.47058824e-01, 2.62745112e-01, 1.64705887e-01],\n",
              "         ...,\n",
              "         [2.90196091e-01, 2.82352954e-01, 2.86274523e-01],\n",
              "         [3.52941185e-01, 3.52941185e-01, 3.60784322e-01],\n",
              "         [4.43137258e-01, 4.43137258e-01, 4.50980395e-01]],\n",
              "\n",
              "        [[7.13725507e-01, 7.33333349e-01, 6.15686297e-01],\n",
              "         [4.54901963e-01, 4.70588237e-01, 3.64705890e-01],\n",
              "         [2.54901975e-01, 2.70588249e-01, 1.72549024e-01],\n",
              "         ...,\n",
              "         [4.62745100e-01, 4.58823532e-01, 4.50980395e-01],\n",
              "         [7.33333349e-01, 7.33333349e-01, 7.25490212e-01],\n",
              "         [8.98039222e-01, 8.98039222e-01, 8.90196085e-01]],\n",
              "\n",
              "        ...,\n",
              "\n",
              "        [[8.62745121e-02, 1.13725491e-01, 8.23529437e-02],\n",
              "         [9.41176489e-02, 1.21568628e-01, 9.01960805e-02],\n",
              "         [1.41176477e-01, 1.68627456e-01, 1.37254909e-01],\n",
              "         ...,\n",
              "         [3.52941185e-01, 4.11764711e-01, 3.29411775e-01],\n",
              "         [4.62745100e-01, 5.21568656e-01, 4.39215690e-01],\n",
              "         [4.15686280e-01, 4.74509805e-01, 3.92156869e-01]],\n",
              "\n",
              "        [[1.01960786e-01, 1.29411772e-01, 9.80392173e-02],\n",
              "         [1.25490203e-01, 1.52941182e-01, 1.21568628e-01],\n",
              "         [1.33333340e-01, 1.60784319e-01, 1.29411772e-01],\n",
              "         ...,\n",
              "         [4.00000006e-01, 4.58823532e-01, 3.76470596e-01],\n",
              "         [3.52941185e-01, 4.11764711e-01, 3.29411775e-01],\n",
              "         [3.29411775e-01, 3.88235301e-01, 3.05882365e-01]],\n",
              "\n",
              "        [[1.01960786e-01, 1.29411772e-01, 9.80392173e-02],\n",
              "         [1.64705887e-01, 1.92156866e-01, 1.60784319e-01],\n",
              "         [1.68627456e-01, 1.96078435e-01, 1.64705887e-01],\n",
              "         ...,\n",
              "         [4.66666669e-01, 5.25490224e-01, 4.43137258e-01],\n",
              "         [3.80392164e-01, 4.39215690e-01, 3.56862754e-01],\n",
              "         [5.05882382e-01, 5.64705908e-01, 4.82352942e-01]]]],\n",
              "      dtype=float32)"
            ]
          },
          "metadata": {
            "tags": []
          },
          "execution_count": 104
        }
      ]
    },
    {
      "cell_type": "code",
      "metadata": {
        "id": "fYz1QltvTLgR"
      },
      "source": [
        "train_x, val_x, train_y, val_y = train_test_split(train_x, train_y, test_size = 0.1, random_state = 13, stratify=train_y)\n"
      ],
      "execution_count": 105,
      "outputs": []
    },
    {
      "cell_type": "code",
      "metadata": {
        "colab": {
          "base_uri": "https://localhost:8080/"
        },
        "id": "d-W32DbmUyOL",
        "outputId": "9afa5b45-2d2d-488e-c99d-db55976ca33f"
      },
      "source": [
        "train_x.shape,train_y.shape"
      ],
      "execution_count": 106,
      "outputs": [
        {
          "output_type": "execute_result",
          "data": {
            "text/plain": [
              "((1481, 224, 224, 3), (1481,))"
            ]
          },
          "metadata": {
            "tags": []
          },
          "execution_count": 106
        }
      ]
    },
    {
      "cell_type": "code",
      "metadata": {
        "colab": {
          "base_uri": "https://localhost:8080/"
        },
        "id": "eWjoJ4kvU7-6",
        "outputId": "53c92ec3-b238-40ff-cbe2-d752d63e3fac"
      },
      "source": [
        "val_x.shape,val_y.shape"
      ],
      "execution_count": 107,
      "outputs": [
        {
          "output_type": "execute_result",
          "data": {
            "text/plain": [
              "((165, 224, 224, 3), (165,))"
            ]
          },
          "metadata": {
            "tags": []
          },
          "execution_count": 107
        }
      ]
    },
    {
      "cell_type": "code",
      "metadata": {
        "colab": {
          "base_uri": "https://localhost:8080/"
        },
        "id": "vgZIx4aAV8Ca",
        "outputId": "1c8ba897-c207-4acf-a25f-93b71482928c"
      },
      "source": [
        "train_x = train_x.reshape(1481, 3, 224, 224)\n",
        "train_x  = torch.from_numpy(train_x)\n",
        "\n",
        "# converting the target into torch format\n",
        "train_y = train_y.astype(int)\n",
        "train_y = torch.from_numpy(train_y)\n",
        "\n",
        "# shape of training data\n",
        "train_x.shape, train_y.shape\n"
      ],
      "execution_count": 108,
      "outputs": [
        {
          "output_type": "execute_result",
          "data": {
            "text/plain": [
              "(torch.Size([1481, 3, 224, 224]), torch.Size([1481]))"
            ]
          },
          "metadata": {
            "tags": []
          },
          "execution_count": 108
        }
      ]
    },
    {
      "cell_type": "code",
      "metadata": {
        "colab": {
          "base_uri": "https://localhost:8080/"
        },
        "id": "6HVsaYaqf-wF",
        "outputId": "ff4d8f35-aae6-4cd9-f18a-007f1404be61"
      },
      "source": [
        "val_x = val_x.reshape(165, 3, 224, 224)\n",
        "val_x  = torch.from_numpy(val_x)\n",
        "\n",
        "# converting the target into torch format\n",
        "val_y = val_y.astype(int)\n",
        "val_y = torch.from_numpy(val_y)\n",
        "\n",
        "# shape of validation data\n",
        "val_x.shape, val_y.shape"
      ],
      "execution_count": 109,
      "outputs": [
        {
          "output_type": "execute_result",
          "data": {
            "text/plain": [
              "(torch.Size([165, 3, 224, 224]), torch.Size([165]))"
            ]
          },
          "metadata": {
            "tags": []
          },
          "execution_count": 109
        }
      ]
    },
    {
      "cell_type": "code",
      "metadata": {
        "colab": {
          "base_uri": "https://localhost:8080/",
          "height": 103,
          "referenced_widgets": [
            "a40b4f5868484936aa5009936b112dce",
            "3f25ca9020c8490382e94c80cca4b5af",
            "dc037f1d732e459886d473f3564fd8eb",
            "f66fedae329e4ef7a7dbdcc1fd88a1f4",
            "21e6ddfc712f44279083d49b38360353",
            "770fbad84bb94639ab5078aed77c637d",
            "e413281066bc49d4b93f2262878ef221",
            "29bf6fc194e54f9b850a42c8ce72daa8"
          ]
        },
        "id": "qBF3ChwKhCqf",
        "outputId": "0415c5e7-9e02-439d-c163-2a6e2e93434d"
      },
      "source": [
        "model = models.vgg16_bn(pretrained=True)\n"
      ],
      "execution_count": 110,
      "outputs": [
        {
          "output_type": "stream",
          "text": [
            "Downloading: \"https://download.pytorch.org/models/vgg16_bn-6c64b313.pth\" to /root/.cache/torch/hub/checkpoints/vgg16_bn-6c64b313.pth\n"
          ],
          "name": "stderr"
        },
        {
          "output_type": "display_data",
          "data": {
            "application/vnd.jupyter.widget-view+json": {
              "model_id": "a40b4f5868484936aa5009936b112dce",
              "version_minor": 0,
              "version_major": 2
            },
            "text/plain": [
              "HBox(children=(FloatProgress(value=0.0, max=553507836.0), HTML(value='')))"
            ]
          },
          "metadata": {
            "tags": []
          }
        },
        {
          "output_type": "stream",
          "text": [
            "\n"
          ],
          "name": "stdout"
        }
      ]
    },
    {
      "cell_type": "code",
      "metadata": {
        "id": "mLAG6Lo5hMSp"
      },
      "source": [
        "for param in model.parameters():\n",
        "    param.requires_grad = False"
      ],
      "execution_count": 111,
      "outputs": []
    },
    {
      "cell_type": "code",
      "metadata": {
        "id": "lSKMVQOKhPZq"
      },
      "source": [
        "if torch.cuda.is_available():\n",
        "    model = model.cuda()\n"
      ],
      "execution_count": 112,
      "outputs": []
    },
    {
      "cell_type": "code",
      "metadata": {
        "id": "1sVheCq8hSko"
      },
      "source": [
        "model.classifier[6] = Sequential(\n",
        "                      Linear(4096, 2))\n",
        "for param in model.classifier[6].parameters():\n",
        "    param.requires_grad = True"
      ],
      "execution_count": 113,
      "outputs": []
    },
    {
      "cell_type": "code",
      "metadata": {
        "colab": {
          "base_uri": "https://localhost:8080/"
        },
        "id": "WcvKYNfAhW34",
        "outputId": "febbdc45-0991-46dc-dcd4-96776a479bd0"
      },
      "source": [
        "batch_size = 128\n",
        "\n",
        "# extracting features for train data\n",
        "data_x = []\n",
        "label_x = []\n",
        "\n",
        "inputs,labels = train_x, train_y\n",
        "\n",
        "for i in tqdm(range(int(train_x.shape[0]/batch_size)+1)):\n",
        "    input_data = inputs[i*batch_size:(i+1)*batch_size]\n",
        "    label_data = labels[i* batch_size:(i+1)*batch_size]\n",
        "    # input_data , label_data = Variable(input_data.cuda()),Variable(label_data.cuda())\n",
        "    x = model.features(input_data)\n",
        "    data_x.extend(x.data.cpu().numpy())\n",
        "    label_x.extend(label_data.data.cpu().numpy())\n"
      ],
      "execution_count": 115,
      "outputs": [
        {
          "output_type": "stream",
          "text": [
            "100%|██████████| 12/12 [14:44<00:00, 73.73s/it]\n"
          ],
          "name": "stderr"
        }
      ]
    },
    {
      "cell_type": "code",
      "metadata": {
        "colab": {
          "base_uri": "https://localhost:8080/"
        },
        "id": "_LfFBVDplRrY",
        "outputId": "07fd0cc2-3a1a-46fa-b021-60927f784842"
      },
      "source": [
        "# extracting features for validation data\n",
        "data_y = []\n",
        "label_y = []\n",
        "\n",
        "inputs,labels = val_x, val_y\n",
        "\n",
        "for i in tqdm(range(int(val_x.shape[0]/batch_size)+1)):\n",
        "    input_data = inputs[i*batch_size:(i+1)*batch_size]\n",
        "    label_data = labels[i*batch_size:(i+1)*batch_size]\n",
        "    # input_data , label_data = Variable(input_data.cuda()),Variable(label_data.cuda())\n",
        "    x = model.features(input_data)\n",
        "    data_y.extend(x.data.cpu().numpy())\n",
        "    label_y.extend(label_data.data.cpu().numpy())"
      ],
      "execution_count": 116,
      "outputs": [
        {
          "output_type": "stream",
          "text": [
            "100%|██████████| 2/2 [01:38<00:00, 49.12s/it]\n"
          ],
          "name": "stderr"
        }
      ]
    },
    {
      "cell_type": "code",
      "metadata": {
        "id": "lJgepvhml1J0"
      },
      "source": [
        "# converting the features into torch format\n",
        "x_train  = torch.from_numpy(np.array(data_x))\n",
        "x_train = x_train.view(x_train.size(0), -1)\n",
        "y_train  = torch.from_numpy(np.array(label_x))\n",
        "x_val  = torch.from_numpy(np.array(data_y))\n",
        "x_val = x_val.view(x_val.size(0), -1)\n",
        "y_val  = torch.from_numpy(np.array(label_y))"
      ],
      "execution_count": 117,
      "outputs": []
    },
    {
      "cell_type": "code",
      "metadata": {
        "colab": {
          "base_uri": "https://localhost:8080/"
        },
        "id": "ugvNkuKZl2z6",
        "outputId": "e635757f-eb75-4ffb-c7b9-dc8245060ca3"
      },
      "source": [
        "x_train.shape,y_train"
      ],
      "execution_count": 119,
      "outputs": [
        {
          "output_type": "execute_result",
          "data": {
            "text/plain": [
              "(torch.Size([1481, 25088]), tensor([1, 1, 0,  ..., 1, 0, 0]))"
            ]
          },
          "metadata": {
            "tags": []
          },
          "execution_count": 119
        }
      ]
    }
  ]
}